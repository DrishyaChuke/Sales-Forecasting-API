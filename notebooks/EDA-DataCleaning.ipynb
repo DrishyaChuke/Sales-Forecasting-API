{
 "cells": [
  {
   "cell_type": "code",
   "execution_count": 1,
   "id": "63668550",
   "metadata": {},
   "outputs": [],
   "source": [
    "%load_ext autoreload\n",
    "%autoreload 2"
   ]
  },
  {
   "cell_type": "code",
   "execution_count": 29,
   "id": "3f6b60cd",
   "metadata": {
    "scrolled": true
   },
   "outputs": [],
   "source": [
    "# pip install -i https://test.pypi.org/simple/ my_krml_25076922==2024.0.3.3"
   ]
  },
  {
   "cell_type": "code",
   "execution_count": 5,
   "id": "31169fa9",
   "metadata": {},
   "outputs": [],
   "source": [
    "import pandas as pd\n",
    "import numpy as np\n",
    "import matplotlib.pyplot as plt\n",
    "import seaborn as sns\n",
    "\n",
    "from scipy.stats import skew\n",
    "from scipy.stats import boxcox"
   ]
  },
  {
   "cell_type": "code",
   "execution_count": 3,
   "id": "87240437",
   "metadata": {},
   "outputs": [],
   "source": [
    "path ='/Users/vega7unk/Documents/3rd_Sem_DSI/Adv_ML/AT2/Project/adv_mla_at2/data'\n",
    "\n",
    "# sales_data = pd.read_csv(f'{path}/df_eda.csv')\n",
    "df_cleaned = pd.read_csv(f'{path}/df_cleaned.csv')\n",
    "# CAT_df_cleaned = pd.read_csv(f'{path}/df_cleaned_CATdtype.csv')"
   ]
  },
  {
   "cell_type": "code",
   "execution_count": 5,
   "id": "d4e2a084",
   "metadata": {},
   "outputs": [],
   "source": [
    "# from my_krml_25076922.features.data_processing import reduce_mem_usage\n",
    "\n",
    "# # Apply the memory reduction function to the sales_train_long DataFrame\n",
    "# sales_data = reduce_mem_usage(sales_data, int_cast=True, obj_to_category=True)"
   ]
  },
  {
   "cell_type": "code",
   "execution_count": null,
   "id": "a1684442",
   "metadata": {},
   "outputs": [],
   "source": [
    "sales_data['state_id'].value_counts()"
   ]
  },
  {
   "cell_type": "code",
   "execution_count": null,
   "id": "de946352",
   "metadata": {},
   "outputs": [],
   "source": [
    "sales_data.isnull().sum()"
   ]
  },
  {
   "cell_type": "code",
   "execution_count": null,
   "id": "de9d3dd2",
   "metadata": {},
   "outputs": [],
   "source": [
    "sales_data.describe()\n"
   ]
  },
  {
   "cell_type": "code",
   "execution_count": null,
   "id": "c8b90000",
   "metadata": {},
   "outputs": [],
   "source": [
    "# plt.figure(figsize=(10, 6))\n",
    "# sns.histplot(sales_data['total_sales'], kde=True, bins=30)\n",
    "# plt.title('Distribution of Total Sales')\n",
    "# plt.xlabel('Total Sales')\n",
    "# plt.ylabel('Frequency')\n",
    "# plt.show()"
   ]
  },
  {
   "cell_type": "code",
   "execution_count": null,
   "id": "827cb583",
   "metadata": {},
   "outputs": [],
   "source": [
    "# plt.figure(figsize=(10, 6))\n",
    "# sns.boxplot(x='state_id', y='total_sales', data=sales_data)\n",
    "# plt.title('Total Sales Distribution by State')\n",
    "# plt.xlabel('State')\n",
    "# plt.ylabel('Total Sales')\n",
    "# plt.show()"
   ]
  },
  {
   "cell_type": "code",
   "execution_count": null,
   "id": "f92d660d",
   "metadata": {},
   "outputs": [],
   "source": [
    "# # Convert the 'date' column to datetime type if not already done\n",
    "# sales_data['date'] = pd.to_datetime(sales_data['date'])\n",
    "\n",
    "# # Aggregate sales by date to visualize overall sales trends\n",
    "# sales_trend = sales_data.groupby('date')['total_sales'].sum().reset_index()\n",
    "\n",
    "# plt.figure(figsize=(14, 6))\n",
    "# sns.lineplot(x='date', y='total_sales', data=sales_trend)\n",
    "# plt.title('Total Sales Over Time')\n",
    "# plt.xlabel('Date')\n",
    "# plt.ylabel('Total Sales')\n",
    "# plt.show()"
   ]
  },
  {
   "cell_type": "code",
   "execution_count": null,
   "id": "21f13ba8",
   "metadata": {},
   "outputs": [],
   "source": [
    "# # Aggregate sales by state and date\n",
    "# state_sales_trend = sales_data.groupby(['date', 'state_id'])['total_sales'].sum().reset_index()\n",
    "\n",
    "# plt.figure(figsize=(14, 6))\n",
    "# sns.lineplot(x='date', y='total_sales', hue='state_id', data=state_sales_trend)\n",
    "# plt.title('Total Sales Over Time by State')\n",
    "# plt.xlabel('Date')\n",
    "# plt.ylabel('Total Sales')\n",
    "# plt.legend(title='State')\n",
    "# plt.show()\n",
    "\n",
    "# # Aggregate sales by store and visualize for selected stores\n",
    "# selected_stores = sales_data['store_id'].unique()[:3]  # Select first 3 stores for visualization\n",
    "# store_sales_trend = sales_data[sales_data['store_id'].isin(selected_stores)]\n",
    "# store_sales_trend = store_sales_trend.groupby(['date', 'store_id'])['total_sales'].sum().reset_index()\n",
    "\n",
    "# plt.figure(figsize=(14, 6))\n",
    "# sns.lineplot(x='date', y='total_sales', hue='store_id', data=store_sales_trend)\n",
    "# plt.title('Total Sales Over Time by Store')\n",
    "# plt.xlabel('Date')\n",
    "# plt.ylabel('Total Sales')\n",
    "# plt.legend(title='Store ID')\n",
    "# plt.show()\n"
   ]
  },
  {
   "cell_type": "code",
   "execution_count": null,
   "id": "91536d56",
   "metadata": {},
   "outputs": [],
   "source": [
    "# # Pairplot to see relationships between numerical features\n",
    "# sns.pairplot(sales_data[['total_sales', 'day_of_week', 'month']])\n",
    "# plt.show()\n",
    "\n",
    "# # Heatmap of correlations between numerical features\n",
    "# plt.figure(figsize=(10, 6))\n",
    "# correlation_matrix = sales_data.corr()\n",
    "# sns.heatmap(correlation_matrix, annot=True, cmap='coolwarm', linewidths=0.5)\n",
    "# plt.title('Correlation Matrix')\n",
    "# plt.show()\n"
   ]
  },
  {
   "cell_type": "code",
   "execution_count": 7,
   "id": "4eca3160",
   "metadata": {},
   "outputs": [
    {
     "data": {
      "image/png": "[encoded data removed]",
      "text/plain": [
       "<Figure size 1000x600 with 1 Axes>"
      ]
     },
     "metadata": {},
     "output_type": "display_data"
    }
   ],
   "source": [
    "import matplotlib.pyplot as plt\n",
    "import seaborn as sns\n",
    "\n",
    "# Plot a boxplot to visualize the distribution of total_sales\n",
    "plt.figure(figsize=(10, 6))\n",
    "sns.boxplot(x=sales_data['total_sales'])\n",
    "plt.title('Boxplot of Total Sales')\n",
    "plt.xlabel('Total Sales')\n",
    "plt.show()\n"
   ]
  },
  {
   "cell_type": "code",
   "execution_count": 8,
   "id": "809c130b",
   "metadata": {},
   "outputs": [
    {
     "name": "stdout",
     "output_type": "stream",
     "text": [
      "Number of outliers in total_sales: 6524111\n"
     ]
    },
    {
     "data": {
      "text/html": [
       "<div>\n",
       "<style scoped>\n",
       "    .dataframe tbody tr th:only-of-type {\n",
       "        vertical-align: middle;\n",
       "    }\n",
       "\n",
       "    .dataframe tbody tr th {\n",
       "        vertical-align: top;\n",
       "    }\n",
       "\n",
       "    .dataframe thead th {\n",
       "        text-align: right;\n",
       "    }\n",
       "</style>\n",
       "<table border=\"1\" class=\"dataframe\">\n",
       "  <thead>\n",
       "    <tr style=\"text-align: right;\">\n",
       "      <th></th>\n",
       "      <th>item_id</th>\n",
       "      <th>dept_id</th>\n",
       "      <th>cat_id</th>\n",
       "      <th>store_id</th>\n",
       "      <th>state_id</th>\n",
       "      <th>total_sales</th>\n",
       "      <th>day_of_week</th>\n",
       "      <th>month</th>\n",
       "      <th>year</th>\n",
       "      <th>is_event</th>\n",
       "    </tr>\n",
       "  </thead>\n",
       "  <tbody>\n",
       "    <tr>\n",
       "      <th>21</th>\n",
       "      <td>HOBBIES_1_022</td>\n",
       "      <td>HOBBIES_1</td>\n",
       "      <td>HOBBIES</td>\n",
       "      <td>CA_1</td>\n",
       "      <td>CA</td>\n",
       "      <td>13.72</td>\n",
       "      <td>5</td>\n",
       "      <td>1</td>\n",
       "      <td>2011</td>\n",
       "      <td>0</td>\n",
       "    </tr>\n",
       "    <tr>\n",
       "      <th>22</th>\n",
       "      <td>HOBBIES_1_023</td>\n",
       "      <td>HOBBIES_1</td>\n",
       "      <td>HOBBIES</td>\n",
       "      <td>CA_1</td>\n",
       "      <td>CA</td>\n",
       "      <td>6.88</td>\n",
       "      <td>5</td>\n",
       "      <td>1</td>\n",
       "      <td>2011</td>\n",
       "      <td>0</td>\n",
       "    </tr>\n",
       "    <tr>\n",
       "      <th>28</th>\n",
       "      <td>HOBBIES_1_029</td>\n",
       "      <td>HOBBIES_1</td>\n",
       "      <td>HOBBIES</td>\n",
       "      <td>CA_1</td>\n",
       "      <td>CA</td>\n",
       "      <td>14.88</td>\n",
       "      <td>5</td>\n",
       "      <td>1</td>\n",
       "      <td>2011</td>\n",
       "      <td>0</td>\n",
       "    </tr>\n",
       "    <tr>\n",
       "      <th>49</th>\n",
       "      <td>HOBBIES_1_050</td>\n",
       "      <td>HOBBIES_1</td>\n",
       "      <td>HOBBIES</td>\n",
       "      <td>CA_1</td>\n",
       "      <td>CA</td>\n",
       "      <td>19.69</td>\n",
       "      <td>5</td>\n",
       "      <td>1</td>\n",
       "      <td>2011</td>\n",
       "      <td>0</td>\n",
       "    </tr>\n",
       "    <tr>\n",
       "      <th>57</th>\n",
       "      <td>HOBBIES_1_058</td>\n",
       "      <td>HOBBIES_1</td>\n",
       "      <td>HOBBIES</td>\n",
       "      <td>CA_1</td>\n",
       "      <td>CA</td>\n",
       "      <td>7.97</td>\n",
       "      <td>5</td>\n",
       "      <td>1</td>\n",
       "      <td>2011</td>\n",
       "      <td>0</td>\n",
       "    </tr>\n",
       "  </tbody>\n",
       "</table>\n",
       "</div>"
      ],
      "text/plain": [
       "          item_id    dept_id   cat_id store_id state_id  total_sales  \\\n",
       "21  HOBBIES_1_022  HOBBIES_1  HOBBIES     CA_1       CA        13.72   \n",
       "22  HOBBIES_1_023  HOBBIES_1  HOBBIES     CA_1       CA         6.88   \n",
       "28  HOBBIES_1_029  HOBBIES_1  HOBBIES     CA_1       CA        14.88   \n",
       "49  HOBBIES_1_050  HOBBIES_1  HOBBIES     CA_1       CA        19.69   \n",
       "57  HOBBIES_1_058  HOBBIES_1  HOBBIES     CA_1       CA         7.97   \n",
       "\n",
       "    day_of_week  month  year  is_event  \n",
       "21            5      1  2011         0  \n",
       "22            5      1  2011         0  \n",
       "28            5      1  2011         0  \n",
       "49            5      1  2011         0  \n",
       "57            5      1  2011         0  "
      ]
     },
     "execution_count": 8,
     "metadata": {},
     "output_type": "execute_result"
    }
   ],
   "source": [
    "# Calculate Q1 (25th percentile) and Q3 (75th percentile)\n",
    "Q1 = sales_data['total_sales'].quantile(0.25)\n",
    "Q3 = sales_data['total_sales'].quantile(0.75)\n",
    "\n",
    "# Calculate IQR\n",
    "IQR = Q3 - Q1\n",
    "\n",
    "# Define lower and upper bounds for outliers\n",
    "lower_bound = Q1 - 1.5 * IQR\n",
    "upper_bound = Q3 + 1.5 * IQR\n",
    "\n",
    "# Find outliers\n",
    "outliers = sales_data[(sales_data['total_sales'] < lower_bound) | (sales_data['total_sales'] > upper_bound)]\n",
    "\n",
    "# Display the number of outliers\n",
    "print(f\"Number of outliers in total_sales: {outliers.shape[0]}\")\n",
    "\n",
    "# Display a few outliers\n",
    "outliers.head()\n"
   ]
  },
  {
   "cell_type": "code",
   "execution_count": 16,
   "id": "e02e19d1",
   "metadata": {},
   "outputs": [
    {
     "data": {
      "text/plain": [
       "(47107050, 10)"
      ]
     },
     "execution_count": 16,
     "metadata": {},
     "output_type": "execute_result"
    }
   ],
   "source": [
    "sales_data.shape"
   ]
  },
  {
   "cell_type": "code",
   "execution_count": 11,
   "id": "89c44fcb",
   "metadata": {},
   "outputs": [
    {
     "data": {
      "text/plain": [
       "state_id\n",
       "CA    2932710\n",
       "TX    1860360\n",
       "WI    1731041\n",
       "Name: count, dtype: int64"
      ]
     },
     "execution_count": 11,
     "metadata": {},
     "output_type": "execute_result"
    }
   ],
   "source": [
    "outliers['state_id'].value_counts()"
   ]
  },
  {
   "cell_type": "code",
   "execution_count": 14,
   "id": "d9baacf6",
   "metadata": {
    "scrolled": true
   },
   "outputs": [
    {
     "data": {
      "text/html": [
       "<div>\n",
       "<style scoped>\n",
       "    .dataframe tbody tr th:only-of-type {\n",
       "        vertical-align: middle;\n",
       "    }\n",
       "\n",
       "    .dataframe tbody tr th {\n",
       "        vertical-align: top;\n",
       "    }\n",
       "\n",
       "    .dataframe thead th {\n",
       "        text-align: right;\n",
       "    }\n",
       "</style>\n",
       "<table border=\"1\" class=\"dataframe\">\n",
       "  <thead>\n",
       "    <tr style=\"text-align: right;\">\n",
       "      <th></th>\n",
       "      <th>count</th>\n",
       "      <th>mean</th>\n",
       "      <th>std</th>\n",
       "      <th>min</th>\n",
       "      <th>25%</th>\n",
       "      <th>50%</th>\n",
       "      <th>75%</th>\n",
       "      <th>max</th>\n",
       "    </tr>\n",
       "    <tr>\n",
       "      <th>state_id</th>\n",
       "      <th></th>\n",
       "      <th></th>\n",
       "      <th></th>\n",
       "      <th></th>\n",
       "      <th></th>\n",
       "      <th></th>\n",
       "      <th></th>\n",
       "      <th></th>\n",
       "    </tr>\n",
       "  </thead>\n",
       "  <tbody>\n",
       "    <tr>\n",
       "      <th>CA</th>\n",
       "      <td>18842820.0</td>\n",
       "      <td>3.412234</td>\n",
       "      <td>10.083693</td>\n",
       "      <td>0.0</td>\n",
       "      <td>0.0</td>\n",
       "      <td>0.0</td>\n",
       "      <td>3.00</td>\n",
       "      <td>2164.0</td>\n",
       "    </tr>\n",
       "    <tr>\n",
       "      <th>TX</th>\n",
       "      <td>14132115.0</td>\n",
       "      <td>2.928594</td>\n",
       "      <td>9.029107</td>\n",
       "      <td>0.0</td>\n",
       "      <td>0.0</td>\n",
       "      <td>0.0</td>\n",
       "      <td>2.48</td>\n",
       "      <td>1767.0</td>\n",
       "    </tr>\n",
       "    <tr>\n",
       "      <th>WI</th>\n",
       "      <td>14132115.0</td>\n",
       "      <td>2.628742</td>\n",
       "      <td>7.941828</td>\n",
       "      <td>0.0</td>\n",
       "      <td>0.0</td>\n",
       "      <td>0.0</td>\n",
       "      <td>1.98</td>\n",
       "      <td>642.5</td>\n",
       "    </tr>\n",
       "  </tbody>\n",
       "</table>\n",
       "</div>"
      ],
      "text/plain": [
       "               count      mean        std  min  25%  50%   75%     max\n",
       "state_id                                                              \n",
       "CA        18842820.0  3.412234  10.083693  0.0  0.0  0.0  3.00  2164.0\n",
       "TX        14132115.0  2.928594   9.029107  0.0  0.0  0.0  2.48  1767.0\n",
       "WI        14132115.0  2.628742   7.941828  0.0  0.0  0.0  1.98   642.5"
      ]
     },
     "execution_count": 14,
     "metadata": {},
     "output_type": "execute_result"
    }
   ],
   "source": [
    "sales_by_state = sales_data.groupby('state_id')['total_sales'].describe()\n",
    "sales_by_state"
   ]
  },
  {
   "cell_type": "code",
   "execution_count": 15,
   "id": "9ec0b2eb",
   "metadata": {},
   "outputs": [
    {
     "data": {
      "text/html": [
       "<div>\n",
       "<style scoped>\n",
       "    .dataframe tbody tr th:only-of-type {\n",
       "        vertical-align: middle;\n",
       "    }\n",
       "\n",
       "    .dataframe tbody tr th {\n",
       "        vertical-align: top;\n",
       "    }\n",
       "\n",
       "    .dataframe thead th {\n",
       "        text-align: right;\n",
       "    }\n",
       "</style>\n",
       "<table border=\"1\" class=\"dataframe\">\n",
       "  <thead>\n",
       "    <tr style=\"text-align: right;\">\n",
       "      <th></th>\n",
       "      <th>count</th>\n",
       "      <th>mean</th>\n",
       "      <th>std</th>\n",
       "      <th>min</th>\n",
       "      <th>25%</th>\n",
       "      <th>50%</th>\n",
       "      <th>75%</th>\n",
       "      <th>max</th>\n",
       "    </tr>\n",
       "    <tr>\n",
       "      <th>item_id</th>\n",
       "      <th></th>\n",
       "      <th></th>\n",
       "      <th></th>\n",
       "      <th></th>\n",
       "      <th></th>\n",
       "      <th></th>\n",
       "      <th></th>\n",
       "      <th></th>\n",
       "    </tr>\n",
       "  </thead>\n",
       "  <tbody>\n",
       "    <tr>\n",
       "      <th>FOODS_1_001</th>\n",
       "      <td>15450.0</td>\n",
       "      <td>1.410162</td>\n",
       "      <td>2.813507</td>\n",
       "      <td>0.0</td>\n",
       "      <td>0.0</td>\n",
       "      <td>0.00</td>\n",
       "      <td>2.24</td>\n",
       "      <td>53.75</td>\n",
       "    </tr>\n",
       "    <tr>\n",
       "      <th>FOODS_1_002</th>\n",
       "      <td>15450.0</td>\n",
       "      <td>3.379679</td>\n",
       "      <td>6.648425</td>\n",
       "      <td>0.0</td>\n",
       "      <td>0.0</td>\n",
       "      <td>0.00</td>\n",
       "      <td>7.88</td>\n",
       "      <td>75.80</td>\n",
       "    </tr>\n",
       "    <tr>\n",
       "      <th>FOODS_1_003</th>\n",
       "      <td>15450.0</td>\n",
       "      <td>2.162059</td>\n",
       "      <td>3.788114</td>\n",
       "      <td>0.0</td>\n",
       "      <td>0.0</td>\n",
       "      <td>0.00</td>\n",
       "      <td>2.88</td>\n",
       "      <td>63.38</td>\n",
       "    </tr>\n",
       "    <tr>\n",
       "      <th>FOODS_1_004</th>\n",
       "      <td>15450.0</td>\n",
       "      <td>12.507871</td>\n",
       "      <td>15.447701</td>\n",
       "      <td>0.0</td>\n",
       "      <td>0.0</td>\n",
       "      <td>7.12</td>\n",
       "      <td>19.58</td>\n",
       "      <td>206.50</td>\n",
       "    </tr>\n",
       "    <tr>\n",
       "      <th>FOODS_1_005</th>\n",
       "      <td>15450.0</td>\n",
       "      <td>3.724532</td>\n",
       "      <td>7.456277</td>\n",
       "      <td>0.0</td>\n",
       "      <td>0.0</td>\n",
       "      <td>0.00</td>\n",
       "      <td>3.54</td>\n",
       "      <td>106.20</td>\n",
       "    </tr>\n",
       "    <tr>\n",
       "      <th>...</th>\n",
       "      <td>...</td>\n",
       "      <td>...</td>\n",
       "      <td>...</td>\n",
       "      <td>...</td>\n",
       "      <td>...</td>\n",
       "      <td>...</td>\n",
       "      <td>...</td>\n",
       "      <td>...</td>\n",
       "    </tr>\n",
       "    <tr>\n",
       "      <th>HOUSEHOLD_2_512</th>\n",
       "      <td>15450.0</td>\n",
       "      <td>2.411344</td>\n",
       "      <td>4.528758</td>\n",
       "      <td>0.0</td>\n",
       "      <td>0.0</td>\n",
       "      <td>0.00</td>\n",
       "      <td>3.97</td>\n",
       "      <td>67.50</td>\n",
       "    </tr>\n",
       "    <tr>\n",
       "      <th>HOUSEHOLD_2_513</th>\n",
       "      <td>15450.0</td>\n",
       "      <td>1.064331</td>\n",
       "      <td>3.097508</td>\n",
       "      <td>0.0</td>\n",
       "      <td>0.0</td>\n",
       "      <td>0.00</td>\n",
       "      <td>0.00</td>\n",
       "      <td>55.60</td>\n",
       "    </tr>\n",
       "    <tr>\n",
       "      <th>HOUSEHOLD_2_514</th>\n",
       "      <td>15450.0</td>\n",
       "      <td>3.126755</td>\n",
       "      <td>8.538236</td>\n",
       "      <td>0.0</td>\n",
       "      <td>0.0</td>\n",
       "      <td>0.00</td>\n",
       "      <td>0.00</td>\n",
       "      <td>94.90</td>\n",
       "    </tr>\n",
       "    <tr>\n",
       "      <th>HOUSEHOLD_2_515</th>\n",
       "      <td>15450.0</td>\n",
       "      <td>0.081669</td>\n",
       "      <td>0.459826</td>\n",
       "      <td>0.0</td>\n",
       "      <td>0.0</td>\n",
       "      <td>0.00</td>\n",
       "      <td>0.00</td>\n",
       "      <td>7.88</td>\n",
       "    </tr>\n",
       "    <tr>\n",
       "      <th>HOUSEHOLD_2_516</th>\n",
       "      <td>15450.0</td>\n",
       "      <td>0.766594</td>\n",
       "      <td>2.276615</td>\n",
       "      <td>0.0</td>\n",
       "      <td>0.0</td>\n",
       "      <td>0.00</td>\n",
       "      <td>0.00</td>\n",
       "      <td>29.70</td>\n",
       "    </tr>\n",
       "  </tbody>\n",
       "</table>\n",
       "<p>3049 rows × 8 columns</p>\n",
       "</div>"
      ],
      "text/plain": [
       "                   count       mean        std  min  25%   50%    75%     max\n",
       "item_id                                                                      \n",
       "FOODS_1_001      15450.0   1.410162   2.813507  0.0  0.0  0.00   2.24   53.75\n",
       "FOODS_1_002      15450.0   3.379679   6.648425  0.0  0.0  0.00   7.88   75.80\n",
       "FOODS_1_003      15450.0   2.162059   3.788114  0.0  0.0  0.00   2.88   63.38\n",
       "FOODS_1_004      15450.0  12.507871  15.447701  0.0  0.0  7.12  19.58  206.50\n",
       "FOODS_1_005      15450.0   3.724532   7.456277  0.0  0.0  0.00   3.54  106.20\n",
       "...                  ...        ...        ...  ...  ...   ...    ...     ...\n",
       "HOUSEHOLD_2_512  15450.0   2.411344   4.528758  0.0  0.0  0.00   3.97   67.50\n",
       "HOUSEHOLD_2_513  15450.0   1.064331   3.097508  0.0  0.0  0.00   0.00   55.60\n",
       "HOUSEHOLD_2_514  15450.0   3.126755   8.538236  0.0  0.0  0.00   0.00   94.90\n",
       "HOUSEHOLD_2_515  15450.0   0.081669   0.459826  0.0  0.0  0.00   0.00    7.88\n",
       "HOUSEHOLD_2_516  15450.0   0.766594   2.276615  0.0  0.0  0.00   0.00   29.70\n",
       "\n",
       "[3049 rows x 8 columns]"
      ]
     },
     "execution_count": 15,
     "metadata": {},
     "output_type": "execute_result"
    }
   ],
   "source": [
    "sales_by_item = sales_data.groupby('item_id')['total_sales'].describe()\n",
    "sales_by_item"
   ]
  },
  {
   "cell_type": "code",
   "execution_count": 10,
   "id": "d2d17ae0",
   "metadata": {},
   "outputs": [
    {
     "data": {
      "text/plain": [
       "is_event\n",
       "0    6001729\n",
       "1     522382\n",
       "Name: count, dtype: int64"
      ]
     },
     "execution_count": 10,
     "metadata": {},
     "output_type": "execute_result"
    }
   ],
   "source": [
    "outliers['is_event'].value_counts()"
   ]
  },
  {
   "cell_type": "code",
   "execution_count": 17,
   "id": "e2e7ca4d",
   "metadata": {},
   "outputs": [
    {
     "name": "stdout",
     "output_type": "stream",
     "text": [
      "Number of outliers in total_sales using Z-score method: 714645\n"
     ]
    },
    {
     "data": {
      "text/html": [
       "<div>\n",
       "<style scoped>\n",
       "    .dataframe tbody tr th:only-of-type {\n",
       "        vertical-align: middle;\n",
       "    }\n",
       "\n",
       "    .dataframe tbody tr th {\n",
       "        vertical-align: top;\n",
       "    }\n",
       "\n",
       "    .dataframe thead th {\n",
       "        text-align: right;\n",
       "    }\n",
       "</style>\n",
       "<table border=\"1\" class=\"dataframe\">\n",
       "  <thead>\n",
       "    <tr style=\"text-align: right;\">\n",
       "      <th></th>\n",
       "      <th>item_id</th>\n",
       "      <th>dept_id</th>\n",
       "      <th>cat_id</th>\n",
       "      <th>store_id</th>\n",
       "      <th>state_id</th>\n",
       "      <th>total_sales</th>\n",
       "      <th>day_of_week</th>\n",
       "      <th>month</th>\n",
       "      <th>year</th>\n",
       "      <th>is_event</th>\n",
       "    </tr>\n",
       "  </thead>\n",
       "  <tbody>\n",
       "    <tr>\n",
       "      <th>75</th>\n",
       "      <td>HOBBIES_1_078</td>\n",
       "      <td>HOBBIES_1</td>\n",
       "      <td>HOBBIES</td>\n",
       "      <td>CA_1</td>\n",
       "      <td>CA</td>\n",
       "      <td>59.84</td>\n",
       "      <td>5</td>\n",
       "      <td>1</td>\n",
       "      <td>2011</td>\n",
       "      <td>0</td>\n",
       "    </tr>\n",
       "    <tr>\n",
       "      <th>86</th>\n",
       "      <td>HOBBIES_1_089</td>\n",
       "      <td>HOBBIES_1</td>\n",
       "      <td>HOBBIES</td>\n",
       "      <td>CA_1</td>\n",
       "      <td>CA</td>\n",
       "      <td>39.40</td>\n",
       "      <td>5</td>\n",
       "      <td>1</td>\n",
       "      <td>2011</td>\n",
       "      <td>0</td>\n",
       "    </tr>\n",
       "    <tr>\n",
       "      <th>103</th>\n",
       "      <td>HOBBIES_1_108</td>\n",
       "      <td>HOBBIES_1</td>\n",
       "      <td>HOBBIES</td>\n",
       "      <td>CA_1</td>\n",
       "      <td>CA</td>\n",
       "      <td>48.47</td>\n",
       "      <td>5</td>\n",
       "      <td>1</td>\n",
       "      <td>2011</td>\n",
       "      <td>0</td>\n",
       "    </tr>\n",
       "    <tr>\n",
       "      <th>288</th>\n",
       "      <td>HOBBIES_1_297</td>\n",
       "      <td>HOBBIES_1</td>\n",
       "      <td>HOBBIES</td>\n",
       "      <td>CA_1</td>\n",
       "      <td>CA</td>\n",
       "      <td>39.00</td>\n",
       "      <td>5</td>\n",
       "      <td>1</td>\n",
       "      <td>2011</td>\n",
       "      <td>0</td>\n",
       "    </tr>\n",
       "    <tr>\n",
       "      <th>355</th>\n",
       "      <td>HOBBIES_1_364</td>\n",
       "      <td>HOBBIES_1</td>\n",
       "      <td>HOBBIES</td>\n",
       "      <td>CA_1</td>\n",
       "      <td>CA</td>\n",
       "      <td>71.80</td>\n",
       "      <td>5</td>\n",
       "      <td>1</td>\n",
       "      <td>2011</td>\n",
       "      <td>0</td>\n",
       "    </tr>\n",
       "  </tbody>\n",
       "</table>\n",
       "</div>"
      ],
      "text/plain": [
       "           item_id    dept_id   cat_id store_id state_id  total_sales  \\\n",
       "75   HOBBIES_1_078  HOBBIES_1  HOBBIES     CA_1       CA        59.84   \n",
       "86   HOBBIES_1_089  HOBBIES_1  HOBBIES     CA_1       CA        39.40   \n",
       "103  HOBBIES_1_108  HOBBIES_1  HOBBIES     CA_1       CA        48.47   \n",
       "288  HOBBIES_1_297  HOBBIES_1  HOBBIES     CA_1       CA        39.00   \n",
       "355  HOBBIES_1_364  HOBBIES_1  HOBBIES     CA_1       CA        71.80   \n",
       "\n",
       "     day_of_week  month  year  is_event  \n",
       "75             5      1  2011         0  \n",
       "86             5      1  2011         0  \n",
       "103            5      1  2011         0  \n",
       "288            5      1  2011         0  \n",
       "355            5      1  2011         0  "
      ]
     },
     "execution_count": 17,
     "metadata": {},
     "output_type": "execute_result"
    }
   ],
   "source": [
    "from scipy import stats\n",
    "\n",
    "# Calculate Z-scores for total_sales\n",
    "z_scores = stats.zscore(sales_data['total_sales'])\n",
    "\n",
    "# Find the outliers where Z-score is greater than 3 or less than -3\n",
    "outliers_z = sales_data[(z_scores > 3) | (z_scores < -3)]\n",
    "\n",
    "# Display the number of outliers\n",
    "print(f\"Number of outliers in total_sales using Z-score method: {outliers_z.shape[0]}\")\n",
    "\n",
    "# Display a few outliers\n",
    "outliers_z.head()\n"
   ]
  },
  {
   "cell_type": "code",
   "execution_count": 18,
   "id": "18ea48b0",
   "metadata": {},
   "outputs": [
    {
     "name": "stderr",
     "output_type": "stream",
     "text": [
      "/Users/vega7unk/anaconda3/lib/python3.11/site-packages/seaborn/_oldcore.py:1119: FutureWarning: use_inf_as_na option is deprecated and will be removed in a future version. Convert inf values to NaN before operating instead.\n",
      "  with pd.option_context('mode.use_inf_as_na', True):\n"
     ]
    },
    {
     "data": {
      "image/png": "[encoded data removed]",
      "text/plain": [
       "<Figure size 1000x600 with 1 Axes>"
      ]
     },
     "metadata": {},
     "output_type": "display_data"
    }
   ],
   "source": [
    "# Plot a histogram to check for distribution and potential outliers\n",
    "plt.figure(figsize=(10, 6))\n",
    "sns.histplot(sales_data['total_sales'], kde=True, bins=30)\n",
    "plt.title('Distribution of Total Sales')\n",
    "plt.xlabel('Total Sales')\n",
    "plt.ylabel('Frequency')\n",
    "plt.show()\n"
   ]
  },
  {
   "cell_type": "code",
   "execution_count": 21,
   "id": "14307ca0",
   "metadata": {},
   "outputs": [
    {
     "name": "stdout",
     "output_type": "stream",
     "text": [
      "Skewness of total_sales: 13.204313063374315\n"
     ]
    }
   ],
   "source": [
    "# Check the skewness of 'total_sales' in the dataset\n",
    "total_sales_skewness = sales_data['total_sales'].skew()\n",
    "print(f\"Skewness of total_sales: {total_sales_skewness}\")\n",
    "\n"
   ]
  },
  {
   "cell_type": "code",
   "execution_count": 22,
   "id": "8fb5bbe0",
   "metadata": {},
   "outputs": [
    {
     "name": "stdout",
     "output_type": "stream",
     "text": [
      "Skewness of square root transformed total_sales: 2.237465834859933\n"
     ]
    },
    {
     "name": "stderr",
     "output_type": "stream",
     "text": [
      "/Users/vega7unk/anaconda3/lib/python3.11/site-packages/seaborn/_oldcore.py:1119: FutureWarning: use_inf_as_na option is deprecated and will be removed in a future version. Convert inf values to NaN before operating instead.\n",
      "  with pd.option_context('mode.use_inf_as_na', True):\n"
     ]
    },
    {
     "data": {
      "image/png": "[encoded data removed]",
      "text/plain": [
       "<Figure size 1000x600 with 1 Axes>"
      ]
     },
     "metadata": {},
     "output_type": "display_data"
    }
   ],
   "source": [
    "# Apply square root transformation\n",
    "sales_data['total_sales_sqrt'] = np.sqrt(sales_data['total_sales'])\n",
    "\n",
    "# Check skewness after square root transformation\n",
    "total_sales_sqrt_skewness = sales_data['total_sales_sqrt'].skew()\n",
    "print(f\"Skewness of square root transformed total_sales: {total_sales_sqrt_skewness}\")\n",
    "\n",
    "# Plot the transformed data to visualize the impact\n",
    "plt.figure(figsize=(10, 6))\n",
    "sns.histplot(sales_data['total_sales_sqrt'], kde=True, bins=30)\n",
    "plt.title('Distribution of Square Root Transformed Total Sales')\n",
    "plt.xlabel('Square Root Transformed Total Sales')\n",
    "plt.ylabel('Frequency')\n",
    "plt.show()"
   ]
  },
  {
   "cell_type": "code",
   "execution_count": 23,
   "id": "d61e4c53",
   "metadata": {},
   "outputs": [
    {
     "name": "stdout",
     "output_type": "stream",
     "text": [
      "Skewness of log-transformed total_sales: 1.4619903261800058\n"
     ]
    },
    {
     "name": "stderr",
     "output_type": "stream",
     "text": [
      "/Users/vega7unk/anaconda3/lib/python3.11/site-packages/seaborn/_oldcore.py:1119: FutureWarning: use_inf_as_na option is deprecated and will be removed in a future version. Convert inf values to NaN before operating instead.\n",
      "  with pd.option_context('mode.use_inf_as_na', True):\n"
     ]
    },
    {
     "data": {
      "image/png": "[encoded data removed]",
      "text/plain": [
       "<Figure size 1000x600 with 1 Axes>"
      ]
     },
     "metadata": {},
     "output_type": "display_data"
    }
   ],
   "source": [
    "# Apply log transformation (adding 1 to avoid log(0))\n",
    "sales_data['total_sales_log'] = np.log1p(sales_data['total_sales'])\n",
    "\n",
    "# Check skewness after log transformation\n",
    "total_sales_log_skewness = sales_data['total_sales_log'].skew()\n",
    "print(f\"Skewness of log-transformed total_sales: {total_sales_log_skewness}\")\n",
    "\n",
    "# Plot the log-transformed data to visualize the impact\n",
    "plt.figure(figsize=(10, 6))\n",
    "sns.histplot(sales_data['total_sales_log'], kde=True, bins=30)\n",
    "plt.title('Distribution of Log-Transformed Total Sales')\n",
    "plt.xlabel('Log-Transformed Total Sales')\n",
    "plt.ylabel('Frequency')\n",
    "plt.show()\n"
   ]
  },
  {
   "cell_type": "code",
   "execution_count": 24,
   "id": "74d9074d",
   "metadata": {},
   "outputs": [
    {
     "name": "stdout",
     "output_type": "stream",
     "text": [
      "Skewness of Box-Cox transformed total_sales: 0.9311752030571208\n"
     ]
    },
    {
     "name": "stderr",
     "output_type": "stream",
     "text": [
      "/Users/vega7unk/anaconda3/lib/python3.11/site-packages/seaborn/_oldcore.py:1119: FutureWarning: use_inf_as_na option is deprecated and will be removed in a future version. Convert inf values to NaN before operating instead.\n",
      "  with pd.option_context('mode.use_inf_as_na', True):\n"
     ]
    },
    {
     "data": {
      "image/png": "[encoded data removed]",
      "text/plain": [
       "<Figure size 1000x600 with 1 Axes>"
      ]
     },
     "metadata": {},
     "output_type": "display_data"
    }
   ],
   "source": [
    "# Apply Box-Cox transformation (adding 1 to avoid issues with zero values)\n",
    "sales_data['total_sales_boxcox'], fitted_lambda = boxcox(sales_data['total_sales'] + 1)\n",
    "\n",
    "# Check skewness after Box-Cox transformation\n",
    "total_sales_boxcox_skewness = pd.Series(sales_data['total_sales_boxcox']).skew()\n",
    "print(f\"Skewness of Box-Cox transformed total_sales: {total_sales_boxcox_skewness}\")\n",
    "\n",
    "# Plot the transformed data to visualize the impact\n",
    "plt.figure(figsize=(10, 6))\n",
    "sns.histplot(sales_data['total_sales_boxcox'], kde=True, bins=30)\n",
    "plt.title('Distribution of Box-Cox Transformed Total Sales')\n",
    "plt.xlabel('Box-Cox Transformed Total Sales')\n",
    "plt.ylabel('Frequency')\n",
    "plt.show()\n"
   ]
  },
  {
   "cell_type": "code",
   "execution_count": 26,
   "id": "50980117",
   "metadata": {},
   "outputs": [
    {
     "data": {
      "text/html": [
       "<div>\n",
       "<style scoped>\n",
       "    .dataframe tbody tr th:only-of-type {\n",
       "        vertical-align: middle;\n",
       "    }\n",
       "\n",
       "    .dataframe tbody tr th {\n",
       "        vertical-align: top;\n",
       "    }\n",
       "\n",
       "    .dataframe thead th {\n",
       "        text-align: right;\n",
       "    }\n",
       "</style>\n",
       "<table border=\"1\" class=\"dataframe\">\n",
       "  <thead>\n",
       "    <tr style=\"text-align: right;\">\n",
       "      <th></th>\n",
       "      <th>item_id</th>\n",
       "      <th>dept_id</th>\n",
       "      <th>cat_id</th>\n",
       "      <th>store_id</th>\n",
       "      <th>state_id</th>\n",
       "      <th>total_sales</th>\n",
       "      <th>day_of_week</th>\n",
       "      <th>month</th>\n",
       "      <th>year</th>\n",
       "      <th>is_event</th>\n",
       "      <th>total_sales_sqrt</th>\n",
       "      <th>total_sales_log</th>\n",
       "      <th>total_sales_boxcox</th>\n",
       "    </tr>\n",
       "  </thead>\n",
       "  <tbody>\n",
       "    <tr>\n",
       "      <th>0</th>\n",
       "      <td>HOBBIES_1_001</td>\n",
       "      <td>HOBBIES_1</td>\n",
       "      <td>HOBBIES</td>\n",
       "      <td>CA_1</td>\n",
       "      <td>CA</td>\n",
       "      <td>0.0</td>\n",
       "      <td>5</td>\n",
       "      <td>1</td>\n",
       "      <td>2011</td>\n",
       "      <td>0</td>\n",
       "      <td>0.0</td>\n",
       "      <td>0.0</td>\n",
       "      <td>0.0</td>\n",
       "    </tr>\n",
       "    <tr>\n",
       "      <th>1</th>\n",
       "      <td>HOBBIES_1_002</td>\n",
       "      <td>HOBBIES_1</td>\n",
       "      <td>HOBBIES</td>\n",
       "      <td>CA_1</td>\n",
       "      <td>CA</td>\n",
       "      <td>0.0</td>\n",
       "      <td>5</td>\n",
       "      <td>1</td>\n",
       "      <td>2011</td>\n",
       "      <td>0</td>\n",
       "      <td>0.0</td>\n",
       "      <td>0.0</td>\n",
       "      <td>0.0</td>\n",
       "    </tr>\n",
       "    <tr>\n",
       "      <th>2</th>\n",
       "      <td>HOBBIES_1_003</td>\n",
       "      <td>HOBBIES_1</td>\n",
       "      <td>HOBBIES</td>\n",
       "      <td>CA_1</td>\n",
       "      <td>CA</td>\n",
       "      <td>0.0</td>\n",
       "      <td>5</td>\n",
       "      <td>1</td>\n",
       "      <td>2011</td>\n",
       "      <td>0</td>\n",
       "      <td>0.0</td>\n",
       "      <td>0.0</td>\n",
       "      <td>0.0</td>\n",
       "    </tr>\n",
       "    <tr>\n",
       "      <th>3</th>\n",
       "      <td>HOBBIES_1_004</td>\n",
       "      <td>HOBBIES_1</td>\n",
       "      <td>HOBBIES</td>\n",
       "      <td>CA_1</td>\n",
       "      <td>CA</td>\n",
       "      <td>0.0</td>\n",
       "      <td>5</td>\n",
       "      <td>1</td>\n",
       "      <td>2011</td>\n",
       "      <td>0</td>\n",
       "      <td>0.0</td>\n",
       "      <td>0.0</td>\n",
       "      <td>0.0</td>\n",
       "    </tr>\n",
       "    <tr>\n",
       "      <th>4</th>\n",
       "      <td>HOBBIES_1_005</td>\n",
       "      <td>HOBBIES_1</td>\n",
       "      <td>HOBBIES</td>\n",
       "      <td>CA_1</td>\n",
       "      <td>CA</td>\n",
       "      <td>0.0</td>\n",
       "      <td>5</td>\n",
       "      <td>1</td>\n",
       "      <td>2011</td>\n",
       "      <td>0</td>\n",
       "      <td>0.0</td>\n",
       "      <td>0.0</td>\n",
       "      <td>0.0</td>\n",
       "    </tr>\n",
       "  </tbody>\n",
       "</table>\n",
       "</div>"
      ],
      "text/plain": [
       "         item_id    dept_id   cat_id store_id state_id  total_sales  \\\n",
       "0  HOBBIES_1_001  HOBBIES_1  HOBBIES     CA_1       CA          0.0   \n",
       "1  HOBBIES_1_002  HOBBIES_1  HOBBIES     CA_1       CA          0.0   \n",
       "2  HOBBIES_1_003  HOBBIES_1  HOBBIES     CA_1       CA          0.0   \n",
       "3  HOBBIES_1_004  HOBBIES_1  HOBBIES     CA_1       CA          0.0   \n",
       "4  HOBBIES_1_005  HOBBIES_1  HOBBIES     CA_1       CA          0.0   \n",
       "\n",
       "   day_of_week  month  year  is_event  total_sales_sqrt  total_sales_log  \\\n",
       "0            5      1  2011         0               0.0              0.0   \n",
       "1            5      1  2011         0               0.0              0.0   \n",
       "2            5      1  2011         0               0.0              0.0   \n",
       "3            5      1  2011         0               0.0              0.0   \n",
       "4            5      1  2011         0               0.0              0.0   \n",
       "\n",
       "   total_sales_boxcox  \n",
       "0                 0.0  \n",
       "1                 0.0  \n",
       "2                 0.0  \n",
       "3                 0.0  \n",
       "4                 0.0  "
      ]
     },
     "execution_count": 26,
     "metadata": {},
     "output_type": "execute_result"
    }
   ],
   "source": [
    "sales_data.head()"
   ]
  },
  {
   "cell_type": "code",
   "execution_count": 6,
   "id": "a0cbb915",
   "metadata": {},
   "outputs": [
    {
     "name": "stdout",
     "output_type": "stream",
     "text": [
      "Skewness of square root transformed total_sales: 0.9611504867348452\n",
      "Skewness of log-transformed total_sales: 0.9227127197137427\n",
      "Skewness of Box-Cox transformed total_sales: 0.88586457053604\n"
     ]
    },
    {
     "name": "stderr",
     "output_type": "stream",
     "text": [
      "/Users/vega7unk/anaconda3/lib/python3.11/site-packages/seaborn/_oldcore.py:1119: FutureWarning: use_inf_as_na option is deprecated and will be removed in a future version. Convert inf values to NaN before operating instead.\n",
      "  with pd.option_context('mode.use_inf_as_na', True):\n"
     ]
    },
    {
     "data": {
      "image/png": "[encoded data removed]",
      "text/plain": [
       "<Figure size 1000x600 with 1 Axes>"
      ]
     },
     "metadata": {},
     "output_type": "display_data"
    }
   ],
   "source": [
    "# Apply square root transformation\n",
    "df_cleaned['total_sales'] = np.sqrt(df_cleaned['total_sales'])\n",
    "\n",
    "# Check skewness after square root transformation\n",
    "total_sales_sqrt_skewness = df_cleaned['total_sales'].skew()\n",
    "print(f\"Skewness of square root transformed total_sales: {total_sales_sqrt_skewness}\")\n",
    "\n",
    "# Apply log transformation (adding 1 to avoid log(0))\n",
    "df_cleaned['total_sales'] = np.log1p(df_cleaned['total_sales'])\n",
    "\n",
    "# Check skewness after log transformation\n",
    "total_sales_log_skewness = df_cleaned['total_sales'].skew()\n",
    "print(f\"Skewness of log-transformed total_sales: {total_sales_log_skewness}\")\n",
    "\n",
    "# Apply Box-Cox transformation (adding 1 to avoid issues with zero values)\n",
    "df_cleaned['total_sales'], fitted_lambda = boxcox(df_cleaned['total_sales'] + 1)\n",
    "\n",
    "# Check skewness after Box-Cox transformation\n",
    "total_sales_boxcox_skewness = pd.Series(df_cleaned['total_sales']).skew()\n",
    "print(f\"Skewness of Box-Cox transformed total_sales: {total_sales_boxcox_skewness}\")\n",
    "\n",
    "# Plot the transformed data to visualize the impact\n",
    "plt.figure(figsize=(10, 6))\n",
    "sns.histplot(df_cleaned['total_sales'], kde=True, bins=30)\n",
    "plt.title('Distribution of Transformed Total Sales')\n",
    "plt.xlabel('Transformed Total Sales')\n",
    "plt.ylabel('Frequency')\n",
    "plt.show()"
   ]
  },
  {
   "cell_type": "code",
   "execution_count": 7,
   "id": "710960f1",
   "metadata": {},
   "outputs": [
    {
     "name": "stdout",
     "output_type": "stream",
     "text": [
      "Files saved successfully in '../data' directory.\n"
     ]
    }
   ],
   "source": [
    "import os\n",
    "\n",
    "# Define the directory path\n",
    "output_dir = '../data'\n",
    "\n",
    "# Save df_cleaned_scaled as a CSV file\n",
    "df_cleaned.to_csv(os.path.join(output_dir, 'df_transformed.csv'), index=False)\n",
    "\n",
    "# Print confirmation\n",
    "print(f\"Files saved successfully in '{output_dir}' directory.\")"
   ]
  },
  {
   "cell_type": "code",
   "execution_count": null,
   "id": "e70141ae",
   "metadata": {},
   "outputs": [],
   "source": []
  }
 ],
 "metadata": {
  "kernelspec": {
   "display_name": "Python 3 (ipykernel)",
   "language": "python",
   "name": "python3"
  },
  "language_info": {
   "codemirror_mode": {
    "name": "ipython",
    "version": 3
   },
   "file_extension": ".py",
   "mimetype": "text/x-python",
   "name": "python",
   "nbconvert_exporter": "python",
   "pygments_lexer": "ipython3",
   "version": "3.11.3"
  }
 },
 "nbformat": 4,
 "nbformat_minor": 5
}
