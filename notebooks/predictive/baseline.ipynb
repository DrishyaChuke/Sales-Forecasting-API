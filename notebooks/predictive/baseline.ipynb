{
 "cells": [
  {
   "cell_type": "code",
   "execution_count": 1,
   "id": "ea0637b7",
   "metadata": {},
   "outputs": [],
   "source": [
    "%load_ext autoreload\n",
    "%autoreload 2"
   ]
  },
  {
   "cell_type": "code",
   "execution_count": 2,
   "id": "cca3b7ec",
   "metadata": {
    "scrolled": true
   },
   "outputs": [
    {
     "name": "stdout",
     "output_type": "stream",
     "text": [
      "Looking in indexes: https://test.pypi.org/simple/\n",
      "Requirement already satisfied: my_krml_25076922==2024.0.3.3 in /Users/vega7unk/anaconda3/lib/python3.11/site-packages (2024.0.3.3)\n",
      "Requirement already satisfied: pandas==2.2.2 in /Users/vega7unk/anaconda3/lib/python3.11/site-packages (from my_krml_25076922==2024.0.3.3) (2.2.2)\n",
      "Requirement already satisfied: scikit-learn==1.5.1 in /Users/vega7unk/anaconda3/lib/python3.11/site-packages (from my_krml_25076922==2024.0.3.3) (1.5.1)\n",
      "Requirement already satisfied: tqdm<5.0.0,>=4.0.0 in /Users/vega7unk/anaconda3/lib/python3.11/site-packages (from my_krml_25076922==2024.0.3.3) (4.65.0)\n",
      "Requirement already satisfied: numpy>=1.23.2 in /Users/vega7unk/anaconda3/lib/python3.11/site-packages (from pandas==2.2.2->my_krml_25076922==2024.0.3.3) (1.24.3)\n",
      "Requirement already satisfied: python-dateutil>=2.8.2 in /Users/vega7unk/anaconda3/lib/python3.11/site-packages (from pandas==2.2.2->my_krml_25076922==2024.0.3.3) (2.8.2)\n",
      "Requirement already satisfied: pytz>=2020.1 in /Users/vega7unk/anaconda3/lib/python3.11/site-packages (from pandas==2.2.2->my_krml_25076922==2024.0.3.3) (2022.7)\n",
      "Requirement already satisfied: tzdata>=2022.7 in /Users/vega7unk/anaconda3/lib/python3.11/site-packages (from pandas==2.2.2->my_krml_25076922==2024.0.3.3) (2023.3)\n",
      "Requirement already satisfied: scipy>=1.6.0 in /Users/vega7unk/anaconda3/lib/python3.11/site-packages (from scikit-learn==1.5.1->my_krml_25076922==2024.0.3.3) (1.11.1)\n",
      "Requirement already satisfied: joblib>=1.2.0 in /Users/vega7unk/anaconda3/lib/python3.11/site-packages (from scikit-learn==1.5.1->my_krml_25076922==2024.0.3.3) (1.2.0)\n",
      "Requirement already satisfied: threadpoolctl>=3.1.0 in /Users/vega7unk/anaconda3/lib/python3.11/site-packages (from scikit-learn==1.5.1->my_krml_25076922==2024.0.3.3) (3.5.0)\n",
      "Requirement already satisfied: six>=1.5 in /Users/vega7unk/anaconda3/lib/python3.11/site-packages (from python-dateutil>=2.8.2->pandas==2.2.2->my_krml_25076922==2024.0.3.3) (1.16.0)\n",
      "Note: you may need to restart the kernel to use updated packages.\n"
     ]
    }
   ],
   "source": [
    "pip install -i https://test.pypi.org/simple/ my_krml_25076922==2024.0.3.3"
   ]
  },
  {
   "cell_type": "code",
   "execution_count": 3,
   "id": "87bd32a2",
   "metadata": {},
   "outputs": [
    {
     "name": "stderr",
     "output_type": "stream",
     "text": [
      "/Users/vega7unk/anaconda3/lib/python3.11/site-packages/pandas/core/arrays/masked.py:60: UserWarning: Pandas requires version '1.3.6' or newer of 'bottleneck' (version '1.3.5' currently installed).\n",
      "  from pandas.core import (\n"
     ]
    }
   ],
   "source": [
    "import pandas as pd\n",
    "import numpy as np\n",
    "\n",
    "import os"
   ]
  },
  {
   "cell_type": "code",
   "execution_count": 4,
   "id": "8187e2c3",
   "metadata": {},
   "outputs": [],
   "source": [
    "path ='/Users/vega7unk/Documents/3rd_Sem_DSI/Adv_ML/AT2/Project/adv_mla_at2/data'\n",
    "\n",
    "sales_data = pd.read_csv(f'{path}/df_transformed.csv')"
   ]
  },
  {
   "cell_type": "code",
   "execution_count": 5,
   "id": "f69963c3",
   "metadata": {},
   "outputs": [
    {
     "data": {
      "text/html": [
       "<div>\n",
       "<style scoped>\n",
       "    .dataframe tbody tr th:only-of-type {\n",
       "        vertical-align: middle;\n",
       "    }\n",
       "\n",
       "    .dataframe tbody tr th {\n",
       "        vertical-align: top;\n",
       "    }\n",
       "\n",
       "    .dataframe thead th {\n",
       "        text-align: right;\n",
       "    }\n",
       "</style>\n",
       "<table border=\"1\" class=\"dataframe\">\n",
       "  <thead>\n",
       "    <tr style=\"text-align: right;\">\n",
       "      <th></th>\n",
       "      <th>item_id</th>\n",
       "      <th>dept_id</th>\n",
       "      <th>cat_id</th>\n",
       "      <th>store_id</th>\n",
       "      <th>state_id</th>\n",
       "      <th>total_sales</th>\n",
       "      <th>day_of_week</th>\n",
       "      <th>month</th>\n",
       "      <th>year</th>\n",
       "    </tr>\n",
       "  </thead>\n",
       "  <tbody>\n",
       "    <tr>\n",
       "      <th>0</th>\n",
       "      <td>1437</td>\n",
       "      <td>3</td>\n",
       "      <td>1</td>\n",
       "      <td>0</td>\n",
       "      <td>0</td>\n",
       "      <td>-0.650955</td>\n",
       "      <td>0.993873</td>\n",
       "      <td>-1.539218</td>\n",
       "      <td>-1.371861</td>\n",
       "    </tr>\n",
       "    <tr>\n",
       "      <th>1</th>\n",
       "      <td>1438</td>\n",
       "      <td>3</td>\n",
       "      <td>1</td>\n",
       "      <td>0</td>\n",
       "      <td>0</td>\n",
       "      <td>-0.650955</td>\n",
       "      <td>0.993873</td>\n",
       "      <td>-1.539218</td>\n",
       "      <td>-1.371861</td>\n",
       "    </tr>\n",
       "    <tr>\n",
       "      <th>2</th>\n",
       "      <td>1439</td>\n",
       "      <td>3</td>\n",
       "      <td>1</td>\n",
       "      <td>0</td>\n",
       "      <td>0</td>\n",
       "      <td>-0.650955</td>\n",
       "      <td>0.993873</td>\n",
       "      <td>-1.539218</td>\n",
       "      <td>-1.371861</td>\n",
       "    </tr>\n",
       "    <tr>\n",
       "      <th>3</th>\n",
       "      <td>1440</td>\n",
       "      <td>3</td>\n",
       "      <td>1</td>\n",
       "      <td>0</td>\n",
       "      <td>0</td>\n",
       "      <td>-0.650955</td>\n",
       "      <td>0.993873</td>\n",
       "      <td>-1.539218</td>\n",
       "      <td>-1.371861</td>\n",
       "    </tr>\n",
       "    <tr>\n",
       "      <th>4</th>\n",
       "      <td>1441</td>\n",
       "      <td>3</td>\n",
       "      <td>1</td>\n",
       "      <td>0</td>\n",
       "      <td>0</td>\n",
       "      <td>-0.650955</td>\n",
       "      <td>0.993873</td>\n",
       "      <td>-1.539218</td>\n",
       "      <td>-1.371861</td>\n",
       "    </tr>\n",
       "  </tbody>\n",
       "</table>\n",
       "</div>"
      ],
      "text/plain": [
       "   item_id  dept_id  cat_id  store_id  state_id  total_sales  day_of_week  \\\n",
       "0     1437        3       1         0         0    -0.650955     0.993873   \n",
       "1     1438        3       1         0         0    -0.650955     0.993873   \n",
       "2     1439        3       1         0         0    -0.650955     0.993873   \n",
       "3     1440        3       1         0         0    -0.650955     0.993873   \n",
       "4     1441        3       1         0         0    -0.650955     0.993873   \n",
       "\n",
       "      month      year  \n",
       "0 -1.539218 -1.371861  \n",
       "1 -1.539218 -1.371861  \n",
       "2 -1.539218 -1.371861  \n",
       "3 -1.539218 -1.371861  \n",
       "4 -1.539218 -1.371861  "
      ]
     },
     "execution_count": 5,
     "metadata": {},
     "output_type": "execute_result"
    }
   ],
   "source": [
    "from my_krml_25076922.features.data_processing import scale_features\n",
    "\n",
    "# List of features to scale\n",
    "features_to_scale = ['total_sales', 'day_of_week', 'month','year']\n",
    "\n",
    "# Apply scaling to the numerical columns\n",
    "sales_data = scale_features(sales_data, features_to_scale)\n",
    "\n",
    "# Preview the scaled data\n",
    "sales_data.head()"
   ]
  },
  {
   "cell_type": "code",
   "execution_count": 6,
   "id": "f6a3c985",
   "metadata": {},
   "outputs": [],
   "source": [
    "target = sales_data.pop('total_sales')"
   ]
  },
  {
   "cell_type": "code",
   "execution_count": 8,
   "id": "8bbcd1da",
   "metadata": {},
   "outputs": [],
   "source": [
    "from my_krml_25076922.data.sets import split_sets_random\n",
    "\n",
    "X_train, y_train, X_val, y_val, X_test, y_test = split_sets_random(sales_data, target, test_ratio=0.2)"
   ]
  },
  {
   "cell_type": "code",
   "execution_count": 9,
   "id": "d00b2506",
   "metadata": {},
   "outputs": [],
   "source": [
    "from my_krml_25076922.models.null import NullRegressor\n",
    "\n",
    "base_model = NullRegressor()"
   ]
  },
  {
   "cell_type": "code",
   "execution_count": 10,
   "id": "767f9d6d",
   "metadata": {
    "scrolled": true
   },
   "outputs": [],
   "source": [
    "y_base = base_model.fit_predict(y_train)"
   ]
  },
  {
   "cell_type": "code",
   "execution_count": 11,
   "id": "9bec6f5b",
   "metadata": {},
   "outputs": [
    {
     "name": "stdout",
     "output_type": "stream",
     "text": [
      "RMSE Training: 1.0000917739425756\n",
      "MAE Training: 0.9145173942251014\n"
     ]
    }
   ],
   "source": [
    "from my_krml_25076922.models.performance import print_regressor_scores\n",
    "\n",
    "print_regressor_scores(y_preds=y_base, y_actuals=y_train, set_name='Training')"
   ]
  },
  {
   "cell_type": "code",
   "execution_count": null,
   "id": "e65343ed",
   "metadata": {},
   "outputs": [],
   "source": []
  }
 ],
 "metadata": {
  "kernelspec": {
   "display_name": "Python 3 (ipykernel)",
   "language": "python",
   "name": "python3"
  },
  "language_info": {
   "codemirror_mode": {
    "name": "ipython",
    "version": 3
   },
   "file_extension": ".py",
   "mimetype": "text/x-python",
   "name": "python",
   "nbconvert_exporter": "python",
   "pygments_lexer": "ipython3",
   "version": "3.11.3"
  }
 },
 "nbformat": 4,
 "nbformat_minor": 5
}
