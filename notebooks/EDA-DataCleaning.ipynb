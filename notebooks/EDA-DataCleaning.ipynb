{
 "cells": [
  {
   "cell_type": "code",
   "execution_count": 1,
   "id": "63668550",
   "metadata": {},
   "outputs": [],
   "source": [
    "%load_ext autoreload\n",
    "%autoreload 2"
   ]
  },
  {
   "cell_type": "code",
   "execution_count": 2,
   "id": "3f6b60cd",
   "metadata": {
    "scrolled": true
   },
   "outputs": [],
   "source": [
    "# pip install -i https://test.pypi.org/simple/ my_krml_25076922==2024.0.3.3"
   ]
  },
  {
   "cell_type": "code",
   "execution_count": 3,
   "id": "31169fa9",
   "metadata": {},
   "outputs": [
    {
     "name": "stderr",
     "output_type": "stream",
     "text": [
      "/Users/vega7unk/anaconda3/lib/python3.11/site-packages/pandas/core/arrays/masked.py:60: UserWarning: Pandas requires version '1.3.6' or newer of 'bottleneck' (version '1.3.5' currently installed).\n",
      "  from pandas.core import (\n"
     ]
    }
   ],
   "source": [
    "import pandas as pd\n",
    "import numpy as np\n",
    "import matplotlib.pyplot as plt\n",
    "import seaborn as sns\n",
    "\n",
    "from scipy.stats import skew\n",
    "from scipy.stats import boxcox"
   ]
  },
  {
   "cell_type": "code",
   "execution_count": 38,
   "id": "87240437",
   "metadata": {},
   "outputs": [],
   "source": [
    "path ='/Users/vega7unk/Documents/3rd_Sem_DSI/Adv_ML/AT2/Project/adv_mla_at2/data'\n",
    "\n",
    "# sales_data = pd.read_csv(f'{path}/df_eda.csv')\n",
    "sales_data = pd.read_csv(f'{path}/df_cleaned.csv')\n",
    "CAT_df_cleaned = pd.read_csv(f'{path}/df_cleaned_CATdtype.csv')"
   ]
  },
  {
   "cell_type": "code",
   "execution_count": 46,
   "id": "2b45ed92",
   "metadata": {},
   "outputs": [
    {
     "name": "stdout",
     "output_type": "stream",
     "text": [
      "         item_id    dept_id   cat_id store_id state_id  total_sales  \\\n",
      "0  HOBBIES_1_001  HOBBIES_1  HOBBIES     CA_1       CA          0.0   \n",
      "1  HOBBIES_1_002  HOBBIES_1  HOBBIES     CA_1       CA          0.0   \n",
      "2  HOBBIES_1_003  HOBBIES_1  HOBBIES     CA_1       CA          0.0   \n",
      "3  HOBBIES_1_004  HOBBIES_1  HOBBIES     CA_1       CA          0.0   \n",
      "4  HOBBIES_1_005  HOBBIES_1  HOBBIES     CA_1       CA          0.0   \n",
      "\n",
      "   day_of_week  month  year  \n",
      "0            5      1  2011  \n",
      "1            5      1  2011  \n",
      "2            5      1  2011  \n",
      "3            5      1  2011  \n",
      "4            5      1  2011  \n"
     ]
    }
   ],
   "source": [
    "print(CAT_df_cleaned.head())"
   ]
  },
  {
   "cell_type": "code",
   "execution_count": 48,
   "id": "373c59fb",
   "metadata": {},
   "outputs": [
    {
     "name": "stdout",
     "output_type": "stream",
     "text": [
      "<class 'pandas.core.frame.DataFrame'>\n",
      "RangeIndex: 47107050 entries, 0 to 47107049\n",
      "Data columns (total 9 columns):\n",
      " #   Column       Dtype  \n",
      "---  ------       -----  \n",
      " 0   item_id      object \n",
      " 1   dept_id      object \n",
      " 2   cat_id       object \n",
      " 3   store_id     object \n",
      " 4   state_id     object \n",
      " 5   total_sales  float64\n",
      " 6   day_of_week  int64  \n",
      " 7   month        int64  \n",
      " 8   year         int64  \n",
      "dtypes: float64(1), int64(3), object(5)\n",
      "memory usage: 3.2+ GB\n"
     ]
    }
   ],
   "source": [
    "CAT_df_cleaned.info()"
   ]
  },
  {
   "cell_type": "code",
   "execution_count": 39,
   "id": "123ea2b9",
   "metadata": {},
   "outputs": [
    {
     "data": {
      "text/plain": [
       "cat_id\n",
       "FOODS        22201650\n",
       "HOUSEHOLD    16176150\n",
       "HOBBIES       8729250\n",
       "Name: count, dtype: int64"
      ]
     },
     "execution_count": 39,
     "metadata": {},
     "output_type": "execute_result"
    }
   ],
   "source": [
    "CAT_df_cleaned['cat_id'].value_counts()"
   ]
  },
  {
   "cell_type": "code",
   "execution_count": 5,
   "id": "d4e2a084",
   "metadata": {},
   "outputs": [],
   "source": [
    "# from my_krml_25076922.features.data_processing import reduce_mem_usage\n",
    "\n",
    "# # Apply the memory reduction function to the sales_train_long DataFrame\n",
    "# sales_data = reduce_mem_usage(sales_data, int_cast=True, obj_to_category=True)"
   ]
  },
  {
   "cell_type": "code",
   "execution_count": 40,
   "id": "179bec5a",
   "metadata": {},
   "outputs": [
    {
     "data": {
      "text/plain": [
       "dept_id\n",
       "FOODS_3        12715350\n",
       "HOUSEHOLD_1     8219400\n",
       "HOUSEHOLD_2     7956750\n",
       "HOBBIES_1       6427200\n",
       "FOODS_2         6149100\n",
       "FOODS_1         3337200\n",
       "HOBBIES_2       2302050\n",
       "Name: count, dtype: int64"
      ]
     },
     "execution_count": 40,
     "metadata": {},
     "output_type": "execute_result"
    }
   ],
   "source": [
    "CAT_df_cleaned['dept_id'].value_counts()"
   ]
  },
  {
   "cell_type": "code",
   "execution_count": 41,
   "id": "255ad27c",
   "metadata": {},
   "outputs": [
    {
     "data": {
      "text/plain": [
       "item_id\n",
       "HOBBIES_1_001      15450\n",
       "FOODS_2_210        15450\n",
       "FOODS_2_201        15450\n",
       "FOODS_2_202        15450\n",
       "FOODS_2_203        15450\n",
       "                   ...  \n",
       "HOUSEHOLD_1_464    15450\n",
       "HOUSEHOLD_1_465    15450\n",
       "HOUSEHOLD_1_466    15450\n",
       "HOUSEHOLD_1_467    15450\n",
       "FOODS_3_827        15450\n",
       "Name: count, Length: 3049, dtype: int64"
      ]
     },
     "execution_count": 41,
     "metadata": {},
     "output_type": "execute_result"
    }
   ],
   "source": [
    "CAT_df_cleaned['item_id'].value_counts()"
   ]
  },
  {
   "cell_type": "code",
   "execution_count": 43,
   "id": "a1684442",
   "metadata": {
    "scrolled": true
   },
   "outputs": [
    {
     "data": {
      "text/plain": [
       "store_id\n",
       "CA_1    4710705\n",
       "CA_2    4710705\n",
       "CA_3    4710705\n",
       "CA_4    4710705\n",
       "TX_1    4710705\n",
       "TX_2    4710705\n",
       "TX_3    4710705\n",
       "WI_1    4710705\n",
       "WI_2    4710705\n",
       "WI_3    4710705\n",
       "Name: count, dtype: int64"
      ]
     },
     "execution_count": 43,
     "metadata": {},
     "output_type": "execute_result"
    }
   ],
   "source": [
    "CAT_df_cleaned['store_id'].value_counts()"
   ]
  },
  {
   "cell_type": "code",
   "execution_count": 47,
   "id": "ee98edef",
   "metadata": {},
   "outputs": [
    {
     "data": {
      "text/plain": [
       "state_id\n",
       "CA    18842820\n",
       "TX    14132115\n",
       "WI    14132115\n",
       "Name: count, dtype: int64"
      ]
     },
     "execution_count": 47,
     "metadata": {},
     "output_type": "execute_result"
    }
   ],
   "source": [
    "CAT_df_cleaned['state_id'].value_counts()"
   ]
  },
  {
   "cell_type": "code",
   "execution_count": 44,
   "id": "4e710223",
   "metadata": {},
   "outputs": [
    {
     "data": {
      "text/plain": [
       "(47107050, 9)"
      ]
     },
     "execution_count": 44,
     "metadata": {},
     "output_type": "execute_result"
    }
   ],
   "source": [
    "CAT_df_cleaned.shape"
   ]
  },
  {
   "cell_type": "code",
   "execution_count": 50,
   "id": "a00735ef",
   "metadata": {},
   "outputs": [
    {
     "ename": "AttributeError",
     "evalue": "'dict' object has no attribute 'head'",
     "output_type": "error",
     "traceback": [
      "\u001b[0;31m---------------------------------------------------------------------------\u001b[0m",
      "\u001b[0;31mAttributeError\u001b[0m                            Traceback (most recent call last)",
      "Cell \u001b[0;32mIn[50], line 3\u001b[0m\n\u001b[1;32m      1\u001b[0m store_ids \u001b[38;5;241m=\u001b[39m CAT_df_cleaned[\u001b[38;5;124m'\u001b[39m\u001b[38;5;124mstore_id\u001b[39m\u001b[38;5;124m'\u001b[39m]\u001b[38;5;241m.\u001b[39munique()\n\u001b[1;32m      2\u001b[0m store_datasets \u001b[38;5;241m=\u001b[39m {store_id: CAT_df_cleaned[CAT_df_cleaned[\u001b[38;5;124m'\u001b[39m\u001b[38;5;124mstore_id\u001b[39m\u001b[38;5;124m'\u001b[39m] \u001b[38;5;241m==\u001b[39m store_id] \u001b[38;5;28;01mfor\u001b[39;00m store_id \u001b[38;5;129;01min\u001b[39;00m store_ids}\n\u001b[0;32m----> 3\u001b[0m store_datasets\u001b[38;5;241m.\u001b[39mhead()\n",
      "\u001b[0;31mAttributeError\u001b[0m: 'dict' object has no attribute 'head'"
     ]
    }
   ],
   "source": [
    "store_ids = CAT_df_cleaned['store_id'].unique()\n",
    "store_datasets = {store_id: CAT_df_cleaned[CAT_df_cleaned['store_id'] == store_id] for store_id in store_ids}"
   ]
  },
  {
   "cell_type": "code",
   "execution_count": 51,
   "id": "baabe99d",
   "metadata": {},
   "outputs": [
    {
     "ename": "AttributeError",
     "evalue": "'dict' object has no attribute 'info'",
     "output_type": "error",
     "traceback": [
      "\u001b[0;31m---------------------------------------------------------------------------\u001b[0m",
      "\u001b[0;31mAttributeError\u001b[0m                            Traceback (most recent call last)",
      "Cell \u001b[0;32mIn[51], line 1\u001b[0m\n\u001b[0;32m----> 1\u001b[0m store_datasets\u001b[38;5;241m.\u001b[39minfo()\n",
      "\u001b[0;31mAttributeError\u001b[0m: 'dict' object has no attribute 'info'"
     ]
    }
   ],
   "source": []
  },
  {
   "cell_type": "code",
   "execution_count": 7,
   "id": "de946352",
   "metadata": {},
   "outputs": [
    {
     "data": {
      "text/plain": [
       "item_id        0\n",
       "dept_id        0\n",
       "cat_id         0\n",
       "store_id       0\n",
       "state_id       0\n",
       "total_sales    0\n",
       "day_of_week    0\n",
       "month          0\n",
       "year           0\n",
       "dtype: int64"
      ]
     },
     "execution_count": 7,
     "metadata": {},
     "output_type": "execute_result"
    }
   ],
   "source": [
    "sales_data.isnull().sum()"
   ]
  },
  {
   "cell_type": "code",
   "execution_count": 8,
   "id": "de9d3dd2",
   "metadata": {},
   "outputs": [
    {
     "data": {
      "text/html": [
       "<div>\n",
       "<style scoped>\n",
       "    .dataframe tbody tr th:only-of-type {\n",
       "        vertical-align: middle;\n",
       "    }\n",
       "\n",
       "    .dataframe tbody tr th {\n",
       "        vertical-align: top;\n",
       "    }\n",
       "\n",
       "    .dataframe thead th {\n",
       "        text-align: right;\n",
       "    }\n",
       "</style>\n",
       "<table border=\"1\" class=\"dataframe\">\n",
       "  <thead>\n",
       "    <tr style=\"text-align: right;\">\n",
       "      <th></th>\n",
       "      <th>item_id</th>\n",
       "      <th>dept_id</th>\n",
       "      <th>cat_id</th>\n",
       "      <th>store_id</th>\n",
       "      <th>state_id</th>\n",
       "      <th>total_sales</th>\n",
       "      <th>day_of_week</th>\n",
       "      <th>month</th>\n",
       "      <th>year</th>\n",
       "    </tr>\n",
       "  </thead>\n",
       "  <tbody>\n",
       "    <tr>\n",
       "      <th>count</th>\n",
       "      <td>4.710705e+07</td>\n",
       "      <td>4.710705e+07</td>\n",
       "      <td>4.710705e+07</td>\n",
       "      <td>4.710705e+07</td>\n",
       "      <td>4.710705e+07</td>\n",
       "      <td>4.710705e+07</td>\n",
       "      <td>4.710705e+07</td>\n",
       "      <td>4.710705e+07</td>\n",
       "      <td>4.710705e+07</td>\n",
       "    </tr>\n",
       "    <tr>\n",
       "      <th>mean</th>\n",
       "      <td>1.524000e+03</td>\n",
       "      <td>3.161036e+00</td>\n",
       "      <td>8.720892e-01</td>\n",
       "      <td>4.500000e+00</td>\n",
       "      <td>9.000000e-01</td>\n",
       "      <td>3.032094e+00</td>\n",
       "      <td>3.009061e+00</td>\n",
       "      <td>6.325566e+00</td>\n",
       "      <td>2.012703e+03</td>\n",
       "    </tr>\n",
       "    <tr>\n",
       "      <th>std</th>\n",
       "      <td>8.801704e+02</td>\n",
       "      <td>1.915904e+00</td>\n",
       "      <td>8.934944e-01</td>\n",
       "      <td>2.872281e+00</td>\n",
       "      <td>8.306624e-01</td>\n",
       "      <td>9.173952e+00</td>\n",
       "      <td>2.003213e+00</td>\n",
       "      <td>3.459918e+00</td>\n",
       "      <td>1.241316e+00</td>\n",
       "    </tr>\n",
       "    <tr>\n",
       "      <th>min</th>\n",
       "      <td>0.000000e+00</td>\n",
       "      <td>0.000000e+00</td>\n",
       "      <td>0.000000e+00</td>\n",
       "      <td>0.000000e+00</td>\n",
       "      <td>0.000000e+00</td>\n",
       "      <td>0.000000e+00</td>\n",
       "      <td>0.000000e+00</td>\n",
       "      <td>1.000000e+00</td>\n",
       "      <td>2.011000e+03</td>\n",
       "    </tr>\n",
       "    <tr>\n",
       "      <th>25%</th>\n",
       "      <td>7.620000e+02</td>\n",
       "      <td>2.000000e+00</td>\n",
       "      <td>0.000000e+00</td>\n",
       "      <td>2.000000e+00</td>\n",
       "      <td>0.000000e+00</td>\n",
       "      <td>0.000000e+00</td>\n",
       "      <td>1.000000e+00</td>\n",
       "      <td>3.000000e+00</td>\n",
       "      <td>2.012000e+03</td>\n",
       "    </tr>\n",
       "    <tr>\n",
       "      <th>50%</th>\n",
       "      <td>1.524000e+03</td>\n",
       "      <td>3.000000e+00</td>\n",
       "      <td>1.000000e+00</td>\n",
       "      <td>4.500000e+00</td>\n",
       "      <td>1.000000e+00</td>\n",
       "      <td>0.000000e+00</td>\n",
       "      <td>3.000000e+00</td>\n",
       "      <td>6.000000e+00</td>\n",
       "      <td>2.013000e+03</td>\n",
       "    </tr>\n",
       "    <tr>\n",
       "      <th>75%</th>\n",
       "      <td>2.286000e+03</td>\n",
       "      <td>5.000000e+00</td>\n",
       "      <td>2.000000e+00</td>\n",
       "      <td>7.000000e+00</td>\n",
       "      <td>2.000000e+00</td>\n",
       "      <td>2.680000e+00</td>\n",
       "      <td>5.000000e+00</td>\n",
       "      <td>9.000000e+00</td>\n",
       "      <td>2.014000e+03</td>\n",
       "    </tr>\n",
       "    <tr>\n",
       "      <th>max</th>\n",
       "      <td>3.048000e+03</td>\n",
       "      <td>6.000000e+00</td>\n",
       "      <td>2.000000e+00</td>\n",
       "      <td>9.000000e+00</td>\n",
       "      <td>2.000000e+00</td>\n",
       "      <td>2.164000e+03</td>\n",
       "      <td>6.000000e+00</td>\n",
       "      <td>1.200000e+01</td>\n",
       "      <td>2.015000e+03</td>\n",
       "    </tr>\n",
       "  </tbody>\n",
       "</table>\n",
       "</div>"
      ],
      "text/plain": [
       "            item_id       dept_id        cat_id      store_id      state_id  \\\n",
       "count  4.710705e+07  4.710705e+07  4.710705e+07  4.710705e+07  4.710705e+07   \n",
       "mean   1.524000e+03  3.161036e+00  8.720892e-01  4.500000e+00  9.000000e-01   \n",
       "std    8.801704e+02  1.915904e+00  8.934944e-01  2.872281e+00  8.306624e-01   \n",
       "min    0.000000e+00  0.000000e+00  0.000000e+00  0.000000e+00  0.000000e+00   \n",
       "25%    7.620000e+02  2.000000e+00  0.000000e+00  2.000000e+00  0.000000e+00   \n",
       "50%    1.524000e+03  3.000000e+00  1.000000e+00  4.500000e+00  1.000000e+00   \n",
       "75%    2.286000e+03  5.000000e+00  2.000000e+00  7.000000e+00  2.000000e+00   \n",
       "max    3.048000e+03  6.000000e+00  2.000000e+00  9.000000e+00  2.000000e+00   \n",
       "\n",
       "        total_sales   day_of_week         month          year  \n",
       "count  4.710705e+07  4.710705e+07  4.710705e+07  4.710705e+07  \n",
       "mean   3.032094e+00  3.009061e+00  6.325566e+00  2.012703e+03  \n",
       "std    9.173952e+00  2.003213e+00  3.459918e+00  1.241316e+00  \n",
       "min    0.000000e+00  0.000000e+00  1.000000e+00  2.011000e+03  \n",
       "25%    0.000000e+00  1.000000e+00  3.000000e+00  2.012000e+03  \n",
       "50%    0.000000e+00  3.000000e+00  6.000000e+00  2.013000e+03  \n",
       "75%    2.680000e+00  5.000000e+00  9.000000e+00  2.014000e+03  \n",
       "max    2.164000e+03  6.000000e+00  1.200000e+01  2.015000e+03  "
      ]
     },
     "execution_count": 8,
     "metadata": {},
     "output_type": "execute_result"
    }
   ],
   "source": [
    "sales_data.describe()\n"
   ]
  },
  {
   "cell_type": "code",
   "execution_count": 9,
   "id": "c8b90000",
   "metadata": {},
   "outputs": [],
   "source": [
    "# plt.figure(figsize=(10, 6))\n",
    "# sns.histplot(sales_data['total_sales'], kde=True, bins=30)\n",
    "# plt.title('Distribution of Total Sales')\n",
    "# plt.xlabel('Total Sales')\n",
    "# plt.ylabel('Frequency')\n",
    "# plt.show()"
   ]
  },
  {
   "cell_type": "code",
   "execution_count": 10,
   "id": "827cb583",
   "metadata": {},
   "outputs": [],
   "source": [
    "# plt.figure(figsize=(10, 6))\n",
    "# sns.boxplot(x='state_id', y='total_sales', data=sales_data)\n",
    "# plt.title('Total Sales Distribution by State')\n",
    "# plt.xlabel('State')\n",
    "# plt.ylabel('Total Sales')\n",
    "# plt.show()"
   ]
  },
  {
   "cell_type": "code",
   "execution_count": 11,
   "id": "f92d660d",
   "metadata": {},
   "outputs": [],
   "source": [
    "# # Convert the 'date' column to datetime type if not already done\n",
    "# sales_data['date'] = pd.to_datetime(sales_data['date'])\n",
    "\n",
    "# # Aggregate sales by date to visualize overall sales trends\n",
    "# sales_trend = sales_data.groupby('date')['total_sales'].sum().reset_index()\n",
    "\n",
    "# plt.figure(figsize=(14, 6))\n",
    "# sns.lineplot(x='date', y='total_sales', data=sales_trend)\n",
    "# plt.title('Total Sales Over Time')\n",
    "# plt.xlabel('Date')\n",
    "# plt.ylabel('Total Sales')\n",
    "# plt.show()"
   ]
  },
  {
   "cell_type": "code",
   "execution_count": 12,
   "id": "21f13ba8",
   "metadata": {},
   "outputs": [],
   "source": [
    "# # Aggregate sales by state and date\n",
    "# state_sales_trend = sales_data.groupby(['date', 'state_id'])['total_sales'].sum().reset_index()\n",
    "\n",
    "# plt.figure(figsize=(14, 6))\n",
    "# sns.lineplot(x='date', y='total_sales', hue='state_id', data=state_sales_trend)\n",
    "# plt.title('Total Sales Over Time by State')\n",
    "# plt.xlabel('Date')\n",
    "# plt.ylabel('Total Sales')\n",
    "# plt.legend(title='State')\n",
    "# plt.show()\n",
    "\n",
    "# # Aggregate sales by store and visualize for selected stores\n",
    "# selected_stores = sales_data['store_id'].unique()[:3]  # Select first 3 stores for visualization\n",
    "# store_sales_trend = sales_data[sales_data['store_id'].isin(selected_stores)]\n",
    "# store_sales_trend = store_sales_trend.groupby(['date', 'store_id'])['total_sales'].sum().reset_index()\n",
    "\n",
    "# plt.figure(figsize=(14, 6))\n",
    "# sns.lineplot(x='date', y='total_sales', hue='store_id', data=store_sales_trend)\n",
    "# plt.title('Total Sales Over Time by Store')\n",
    "# plt.xlabel('Date')\n",
    "# plt.ylabel('Total Sales')\n",
    "# plt.legend(title='Store ID')\n",
    "# plt.show()\n"
   ]
  },
  {
   "cell_type": "code",
   "execution_count": 13,
   "id": "91536d56",
   "metadata": {},
   "outputs": [],
   "source": [
    "# # Pairplot to see relationships between numerical features\n",
    "# sns.pairplot(sales_data[['total_sales', 'day_of_week', 'month']])\n",
    "# plt.show()\n",
    "\n",
    "# # Heatmap of correlations between numerical features\n",
    "# plt.figure(figsize=(10, 6))\n",
    "# correlation_matrix = sales_data.corr()\n",
    "# sns.heatmap(correlation_matrix, annot=True, cmap='coolwarm', linewidths=0.5)\n",
    "# plt.title('Correlation Matrix')\n",
    "# plt.show()\n"
   ]
  },
  {
   "cell_type": "code",
   "execution_count": 14,
   "id": "4eca3160",
   "metadata": {},
   "outputs": [
    {
     "data": {
      "image/png": "[encoded data removed]",
      "text/plain": [
       "<Figure size 1000x600 with 1 Axes>"
      ]
     },
     "metadata": {},
     "output_type": "display_data"
    }
   ],
   "source": [
    "import matplotlib.pyplot as plt\n",
    "import seaborn as sns\n",
    "\n",
    "# Plot a boxplot to visualize the distribution of total_sales\n",
    "plt.figure(figsize=(10, 6))\n",
    "sns.boxplot(x=sales_data['total_sales'])\n",
    "plt.title('Boxplot of Total Sales')\n",
    "plt.xlabel('Total Sales')\n",
    "plt.show()\n"
   ]
  },
  {
   "cell_type": "code",
   "execution_count": 15,
   "id": "a7aa8a96",
   "metadata": {},
   "outputs": [],
   "source": [
    "df = sales_data.copy()"
   ]
  },
  {
   "cell_type": "code",
   "execution_count": 16,
   "id": "809c130b",
   "metadata": {},
   "outputs": [
    {
     "name": "stdout",
     "output_type": "stream",
     "text": [
      "Number of outliers in total_sales: 6524111\n"
     ]
    },
    {
     "data": {
      "text/html": [
       "<div>\n",
       "<style scoped>\n",
       "    .dataframe tbody tr th:only-of-type {\n",
       "        vertical-align: middle;\n",
       "    }\n",
       "\n",
       "    .dataframe tbody tr th {\n",
       "        vertical-align: top;\n",
       "    }\n",
       "\n",
       "    .dataframe thead th {\n",
       "        text-align: right;\n",
       "    }\n",
       "</style>\n",
       "<table border=\"1\" class=\"dataframe\">\n",
       "  <thead>\n",
       "    <tr style=\"text-align: right;\">\n",
       "      <th></th>\n",
       "      <th>item_id</th>\n",
       "      <th>dept_id</th>\n",
       "      <th>cat_id</th>\n",
       "      <th>store_id</th>\n",
       "      <th>state_id</th>\n",
       "      <th>total_sales</th>\n",
       "      <th>day_of_week</th>\n",
       "      <th>month</th>\n",
       "      <th>year</th>\n",
       "    </tr>\n",
       "  </thead>\n",
       "  <tbody>\n",
       "    <tr>\n",
       "      <th>21</th>\n",
       "      <td>1458</td>\n",
       "      <td>3</td>\n",
       "      <td>1</td>\n",
       "      <td>0</td>\n",
       "      <td>0</td>\n",
       "      <td>13.72</td>\n",
       "      <td>5</td>\n",
       "      <td>1</td>\n",
       "      <td>2011</td>\n",
       "    </tr>\n",
       "    <tr>\n",
       "      <th>22</th>\n",
       "      <td>1459</td>\n",
       "      <td>3</td>\n",
       "      <td>1</td>\n",
       "      <td>0</td>\n",
       "      <td>0</td>\n",
       "      <td>6.88</td>\n",
       "      <td>5</td>\n",
       "      <td>1</td>\n",
       "      <td>2011</td>\n",
       "    </tr>\n",
       "    <tr>\n",
       "      <th>28</th>\n",
       "      <td>1465</td>\n",
       "      <td>3</td>\n",
       "      <td>1</td>\n",
       "      <td>0</td>\n",
       "      <td>0</td>\n",
       "      <td>14.88</td>\n",
       "      <td>5</td>\n",
       "      <td>1</td>\n",
       "      <td>2011</td>\n",
       "    </tr>\n",
       "    <tr>\n",
       "      <th>49</th>\n",
       "      <td>1486</td>\n",
       "      <td>3</td>\n",
       "      <td>1</td>\n",
       "      <td>0</td>\n",
       "      <td>0</td>\n",
       "      <td>19.69</td>\n",
       "      <td>5</td>\n",
       "      <td>1</td>\n",
       "      <td>2011</td>\n",
       "    </tr>\n",
       "    <tr>\n",
       "      <th>57</th>\n",
       "      <td>1494</td>\n",
       "      <td>3</td>\n",
       "      <td>1</td>\n",
       "      <td>0</td>\n",
       "      <td>0</td>\n",
       "      <td>7.97</td>\n",
       "      <td>5</td>\n",
       "      <td>1</td>\n",
       "      <td>2011</td>\n",
       "    </tr>\n",
       "  </tbody>\n",
       "</table>\n",
       "</div>"
      ],
      "text/plain": [
       "    item_id  dept_id  cat_id  store_id  state_id  total_sales  day_of_week  \\\n",
       "21     1458        3       1         0         0        13.72            5   \n",
       "22     1459        3       1         0         0         6.88            5   \n",
       "28     1465        3       1         0         0        14.88            5   \n",
       "49     1486        3       1         0         0        19.69            5   \n",
       "57     1494        3       1         0         0         7.97            5   \n",
       "\n",
       "    month  year  \n",
       "21      1  2011  \n",
       "22      1  2011  \n",
       "28      1  2011  \n",
       "49      1  2011  \n",
       "57      1  2011  "
      ]
     },
     "execution_count": 16,
     "metadata": {},
     "output_type": "execute_result"
    }
   ],
   "source": [
    "# Calculate Q1 (25th percentile) and Q3 (75th percentile)\n",
    "Q1 = df['total_sales'].quantile(0.25)\n",
    "Q3 = df['total_sales'].quantile(0.75)\n",
    "\n",
    "# Calculate IQR\n",
    "IQR = Q3 - Q1\n",
    "\n",
    "# Define lower and upper bounds for outliers\n",
    "lower_bound = Q1 - 1.5 * IQR\n",
    "upper_bound = Q3 + 1.5 * IQR\n",
    "\n",
    "# Find outliers\n",
    "outliers = df[(df['total_sales'] < lower_bound) | (df['total_sales'] > upper_bound)]\n",
    "\n",
    "# Display the number of outliers\n",
    "print(f\"Number of outliers in total_sales: {outliers.shape[0]}\")\n",
    "\n",
    "# Display a few outliers\n",
    "outliers.head()\n"
   ]
  },
  {
   "cell_type": "code",
   "execution_count": 17,
   "id": "e02e19d1",
   "metadata": {},
   "outputs": [
    {
     "data": {
      "text/plain": [
       "(47107050, 9)"
      ]
     },
     "execution_count": 17,
     "metadata": {},
     "output_type": "execute_result"
    }
   ],
   "source": [
    "df.shape"
   ]
  },
  {
   "cell_type": "code",
   "execution_count": 18,
   "id": "89c44fcb",
   "metadata": {},
   "outputs": [
    {
     "data": {
      "text/plain": [
       "state_id\n",
       "0    2932710\n",
       "1    1860360\n",
       "2    1731041\n",
       "Name: count, dtype: int64"
      ]
     },
     "execution_count": 18,
     "metadata": {},
     "output_type": "execute_result"
    }
   ],
   "source": [
    "outliers['state_id'].value_counts()"
   ]
  },
  {
   "cell_type": "code",
   "execution_count": 19,
   "id": "d9baacf6",
   "metadata": {
    "scrolled": true
   },
   "outputs": [
    {
     "data": {
      "text/html": [
       "<div>\n",
       "<style scoped>\n",
       "    .dataframe tbody tr th:only-of-type {\n",
       "        vertical-align: middle;\n",
       "    }\n",
       "\n",
       "    .dataframe tbody tr th {\n",
       "        vertical-align: top;\n",
       "    }\n",
       "\n",
       "    .dataframe thead th {\n",
       "        text-align: right;\n",
       "    }\n",
       "</style>\n",
       "<table border=\"1\" class=\"dataframe\">\n",
       "  <thead>\n",
       "    <tr style=\"text-align: right;\">\n",
       "      <th></th>\n",
       "      <th>count</th>\n",
       "      <th>mean</th>\n",
       "      <th>std</th>\n",
       "      <th>min</th>\n",
       "      <th>25%</th>\n",
       "      <th>50%</th>\n",
       "      <th>75%</th>\n",
       "      <th>max</th>\n",
       "    </tr>\n",
       "    <tr>\n",
       "      <th>state_id</th>\n",
       "      <th></th>\n",
       "      <th></th>\n",
       "      <th></th>\n",
       "      <th></th>\n",
       "      <th></th>\n",
       "      <th></th>\n",
       "      <th></th>\n",
       "      <th></th>\n",
       "    </tr>\n",
       "  </thead>\n",
       "  <tbody>\n",
       "    <tr>\n",
       "      <th>0</th>\n",
       "      <td>18842820.0</td>\n",
       "      <td>3.412234</td>\n",
       "      <td>10.083693</td>\n",
       "      <td>0.0</td>\n",
       "      <td>0.0</td>\n",
       "      <td>0.0</td>\n",
       "      <td>3.00</td>\n",
       "      <td>2164.0</td>\n",
       "    </tr>\n",
       "    <tr>\n",
       "      <th>1</th>\n",
       "      <td>14132115.0</td>\n",
       "      <td>2.928594</td>\n",
       "      <td>9.029107</td>\n",
       "      <td>0.0</td>\n",
       "      <td>0.0</td>\n",
       "      <td>0.0</td>\n",
       "      <td>2.48</td>\n",
       "      <td>1767.0</td>\n",
       "    </tr>\n",
       "    <tr>\n",
       "      <th>2</th>\n",
       "      <td>14132115.0</td>\n",
       "      <td>2.628742</td>\n",
       "      <td>7.941828</td>\n",
       "      <td>0.0</td>\n",
       "      <td>0.0</td>\n",
       "      <td>0.0</td>\n",
       "      <td>1.98</td>\n",
       "      <td>642.5</td>\n",
       "    </tr>\n",
       "  </tbody>\n",
       "</table>\n",
       "</div>"
      ],
      "text/plain": [
       "               count      mean        std  min  25%  50%   75%     max\n",
       "state_id                                                              \n",
       "0         18842820.0  3.412234  10.083693  0.0  0.0  0.0  3.00  2164.0\n",
       "1         14132115.0  2.928594   9.029107  0.0  0.0  0.0  2.48  1767.0\n",
       "2         14132115.0  2.628742   7.941828  0.0  0.0  0.0  1.98   642.5"
      ]
     },
     "execution_count": 19,
     "metadata": {},
     "output_type": "execute_result"
    }
   ],
   "source": [
    "sales_by_state = df.groupby('state_id')['total_sales'].describe()\n",
    "sales_by_state"
   ]
  },
  {
   "cell_type": "code",
   "execution_count": 20,
   "id": "9ec0b2eb",
   "metadata": {},
   "outputs": [
    {
     "data": {
      "text/html": [
       "<div>\n",
       "<style scoped>\n",
       "    .dataframe tbody tr th:only-of-type {\n",
       "        vertical-align: middle;\n",
       "    }\n",
       "\n",
       "    .dataframe tbody tr th {\n",
       "        vertical-align: top;\n",
       "    }\n",
       "\n",
       "    .dataframe thead th {\n",
       "        text-align: right;\n",
       "    }\n",
       "</style>\n",
       "<table border=\"1\" class=\"dataframe\">\n",
       "  <thead>\n",
       "    <tr style=\"text-align: right;\">\n",
       "      <th></th>\n",
       "      <th>count</th>\n",
       "      <th>mean</th>\n",
       "      <th>std</th>\n",
       "      <th>min</th>\n",
       "      <th>25%</th>\n",
       "      <th>50%</th>\n",
       "      <th>75%</th>\n",
       "      <th>max</th>\n",
       "    </tr>\n",
       "    <tr>\n",
       "      <th>item_id</th>\n",
       "      <th></th>\n",
       "      <th></th>\n",
       "      <th></th>\n",
       "      <th></th>\n",
       "      <th></th>\n",
       "      <th></th>\n",
       "      <th></th>\n",
       "      <th></th>\n",
       "    </tr>\n",
       "  </thead>\n",
       "  <tbody>\n",
       "    <tr>\n",
       "      <th>0</th>\n",
       "      <td>15450.0</td>\n",
       "      <td>1.410162</td>\n",
       "      <td>2.813507</td>\n",
       "      <td>0.0</td>\n",
       "      <td>0.0</td>\n",
       "      <td>0.00</td>\n",
       "      <td>2.24</td>\n",
       "      <td>53.75</td>\n",
       "    </tr>\n",
       "    <tr>\n",
       "      <th>1</th>\n",
       "      <td>15450.0</td>\n",
       "      <td>3.379679</td>\n",
       "      <td>6.648425</td>\n",
       "      <td>0.0</td>\n",
       "      <td>0.0</td>\n",
       "      <td>0.00</td>\n",
       "      <td>7.88</td>\n",
       "      <td>75.80</td>\n",
       "    </tr>\n",
       "    <tr>\n",
       "      <th>2</th>\n",
       "      <td>15450.0</td>\n",
       "      <td>2.162059</td>\n",
       "      <td>3.788114</td>\n",
       "      <td>0.0</td>\n",
       "      <td>0.0</td>\n",
       "      <td>0.00</td>\n",
       "      <td>2.88</td>\n",
       "      <td>63.38</td>\n",
       "    </tr>\n",
       "    <tr>\n",
       "      <th>3</th>\n",
       "      <td>15450.0</td>\n",
       "      <td>12.507871</td>\n",
       "      <td>15.447701</td>\n",
       "      <td>0.0</td>\n",
       "      <td>0.0</td>\n",
       "      <td>7.12</td>\n",
       "      <td>19.58</td>\n",
       "      <td>206.50</td>\n",
       "    </tr>\n",
       "    <tr>\n",
       "      <th>4</th>\n",
       "      <td>15450.0</td>\n",
       "      <td>3.724532</td>\n",
       "      <td>7.456277</td>\n",
       "      <td>0.0</td>\n",
       "      <td>0.0</td>\n",
       "      <td>0.00</td>\n",
       "      <td>3.54</td>\n",
       "      <td>106.20</td>\n",
       "    </tr>\n",
       "    <tr>\n",
       "      <th>...</th>\n",
       "      <td>...</td>\n",
       "      <td>...</td>\n",
       "      <td>...</td>\n",
       "      <td>...</td>\n",
       "      <td>...</td>\n",
       "      <td>...</td>\n",
       "      <td>...</td>\n",
       "      <td>...</td>\n",
       "    </tr>\n",
       "    <tr>\n",
       "      <th>3044</th>\n",
       "      <td>15450.0</td>\n",
       "      <td>2.411344</td>\n",
       "      <td>4.528758</td>\n",
       "      <td>0.0</td>\n",
       "      <td>0.0</td>\n",
       "      <td>0.00</td>\n",
       "      <td>3.97</td>\n",
       "      <td>67.50</td>\n",
       "    </tr>\n",
       "    <tr>\n",
       "      <th>3045</th>\n",
       "      <td>15450.0</td>\n",
       "      <td>1.064331</td>\n",
       "      <td>3.097508</td>\n",
       "      <td>0.0</td>\n",
       "      <td>0.0</td>\n",
       "      <td>0.00</td>\n",
       "      <td>0.00</td>\n",
       "      <td>55.60</td>\n",
       "    </tr>\n",
       "    <tr>\n",
       "      <th>3046</th>\n",
       "      <td>15450.0</td>\n",
       "      <td>3.126755</td>\n",
       "      <td>8.538236</td>\n",
       "      <td>0.0</td>\n",
       "      <td>0.0</td>\n",
       "      <td>0.00</td>\n",
       "      <td>0.00</td>\n",
       "      <td>94.90</td>\n",
       "    </tr>\n",
       "    <tr>\n",
       "      <th>3047</th>\n",
       "      <td>15450.0</td>\n",
       "      <td>0.081669</td>\n",
       "      <td>0.459826</td>\n",
       "      <td>0.0</td>\n",
       "      <td>0.0</td>\n",
       "      <td>0.00</td>\n",
       "      <td>0.00</td>\n",
       "      <td>7.88</td>\n",
       "    </tr>\n",
       "    <tr>\n",
       "      <th>3048</th>\n",
       "      <td>15450.0</td>\n",
       "      <td>0.766594</td>\n",
       "      <td>2.276615</td>\n",
       "      <td>0.0</td>\n",
       "      <td>0.0</td>\n",
       "      <td>0.00</td>\n",
       "      <td>0.00</td>\n",
       "      <td>29.70</td>\n",
       "    </tr>\n",
       "  </tbody>\n",
       "</table>\n",
       "<p>3049 rows × 8 columns</p>\n",
       "</div>"
      ],
      "text/plain": [
       "           count       mean        std  min  25%   50%    75%     max\n",
       "item_id                                                              \n",
       "0        15450.0   1.410162   2.813507  0.0  0.0  0.00   2.24   53.75\n",
       "1        15450.0   3.379679   6.648425  0.0  0.0  0.00   7.88   75.80\n",
       "2        15450.0   2.162059   3.788114  0.0  0.0  0.00   2.88   63.38\n",
       "3        15450.0  12.507871  15.447701  0.0  0.0  7.12  19.58  206.50\n",
       "4        15450.0   3.724532   7.456277  0.0  0.0  0.00   3.54  106.20\n",
       "...          ...        ...        ...  ...  ...   ...    ...     ...\n",
       "3044     15450.0   2.411344   4.528758  0.0  0.0  0.00   3.97   67.50\n",
       "3045     15450.0   1.064331   3.097508  0.0  0.0  0.00   0.00   55.60\n",
       "3046     15450.0   3.126755   8.538236  0.0  0.0  0.00   0.00   94.90\n",
       "3047     15450.0   0.081669   0.459826  0.0  0.0  0.00   0.00    7.88\n",
       "3048     15450.0   0.766594   2.276615  0.0  0.0  0.00   0.00   29.70\n",
       "\n",
       "[3049 rows x 8 columns]"
      ]
     },
     "execution_count": 20,
     "metadata": {},
     "output_type": "execute_result"
    }
   ],
   "source": [
    "sales_by_item = df.groupby('item_id')['total_sales'].describe()\n",
    "sales_by_item"
   ]
  },
  {
   "cell_type": "code",
   "execution_count": 22,
   "id": "e2e7ca4d",
   "metadata": {},
   "outputs": [
    {
     "name": "stdout",
     "output_type": "stream",
     "text": [
      "Number of outliers in total_sales using Z-score method: 714645\n"
     ]
    },
    {
     "data": {
      "text/html": [
       "<div>\n",
       "<style scoped>\n",
       "    .dataframe tbody tr th:only-of-type {\n",
       "        vertical-align: middle;\n",
       "    }\n",
       "\n",
       "    .dataframe tbody tr th {\n",
       "        vertical-align: top;\n",
       "    }\n",
       "\n",
       "    .dataframe thead th {\n",
       "        text-align: right;\n",
       "    }\n",
       "</style>\n",
       "<table border=\"1\" class=\"dataframe\">\n",
       "  <thead>\n",
       "    <tr style=\"text-align: right;\">\n",
       "      <th></th>\n",
       "      <th>item_id</th>\n",
       "      <th>dept_id</th>\n",
       "      <th>cat_id</th>\n",
       "      <th>store_id</th>\n",
       "      <th>state_id</th>\n",
       "      <th>total_sales</th>\n",
       "      <th>day_of_week</th>\n",
       "      <th>month</th>\n",
       "      <th>year</th>\n",
       "    </tr>\n",
       "  </thead>\n",
       "  <tbody>\n",
       "    <tr>\n",
       "      <th>75</th>\n",
       "      <td>1512</td>\n",
       "      <td>3</td>\n",
       "      <td>1</td>\n",
       "      <td>0</td>\n",
       "      <td>0</td>\n",
       "      <td>59.84</td>\n",
       "      <td>5</td>\n",
       "      <td>1</td>\n",
       "      <td>2011</td>\n",
       "    </tr>\n",
       "    <tr>\n",
       "      <th>86</th>\n",
       "      <td>1523</td>\n",
       "      <td>3</td>\n",
       "      <td>1</td>\n",
       "      <td>0</td>\n",
       "      <td>0</td>\n",
       "      <td>39.40</td>\n",
       "      <td>5</td>\n",
       "      <td>1</td>\n",
       "      <td>2011</td>\n",
       "    </tr>\n",
       "    <tr>\n",
       "      <th>103</th>\n",
       "      <td>1540</td>\n",
       "      <td>3</td>\n",
       "      <td>1</td>\n",
       "      <td>0</td>\n",
       "      <td>0</td>\n",
       "      <td>48.47</td>\n",
       "      <td>5</td>\n",
       "      <td>1</td>\n",
       "      <td>2011</td>\n",
       "    </tr>\n",
       "    <tr>\n",
       "      <th>288</th>\n",
       "      <td>1725</td>\n",
       "      <td>3</td>\n",
       "      <td>1</td>\n",
       "      <td>0</td>\n",
       "      <td>0</td>\n",
       "      <td>39.00</td>\n",
       "      <td>5</td>\n",
       "      <td>1</td>\n",
       "      <td>2011</td>\n",
       "    </tr>\n",
       "    <tr>\n",
       "      <th>355</th>\n",
       "      <td>1792</td>\n",
       "      <td>3</td>\n",
       "      <td>1</td>\n",
       "      <td>0</td>\n",
       "      <td>0</td>\n",
       "      <td>71.80</td>\n",
       "      <td>5</td>\n",
       "      <td>1</td>\n",
       "      <td>2011</td>\n",
       "    </tr>\n",
       "  </tbody>\n",
       "</table>\n",
       "</div>"
      ],
      "text/plain": [
       "     item_id  dept_id  cat_id  store_id  state_id  total_sales  day_of_week  \\\n",
       "75      1512        3       1         0         0        59.84            5   \n",
       "86      1523        3       1         0         0        39.40            5   \n",
       "103     1540        3       1         0         0        48.47            5   \n",
       "288     1725        3       1         0         0        39.00            5   \n",
       "355     1792        3       1         0         0        71.80            5   \n",
       "\n",
       "     month  year  \n",
       "75       1  2011  \n",
       "86       1  2011  \n",
       "103      1  2011  \n",
       "288      1  2011  \n",
       "355      1  2011  "
      ]
     },
     "execution_count": 22,
     "metadata": {},
     "output_type": "execute_result"
    }
   ],
   "source": [
    "from scipy import stats\n",
    "\n",
    "# Calculate Z-scores for total_sales\n",
    "z_scores = stats.zscore(df['total_sales'])\n",
    "\n",
    "# Find the outliers where Z-score is greater than 3 or less than -3\n",
    "outliers_z = df[(z_scores > 3) | (z_scores < -3)]\n",
    "\n",
    "# Display the number of outliers\n",
    "print(f\"Number of outliers in total_sales using Z-score method: {outliers_z.shape[0]}\")\n",
    "\n",
    "# Display a few outliers\n",
    "outliers_z.head()\n"
   ]
  },
  {
   "cell_type": "code",
   "execution_count": 23,
   "id": "18ea48b0",
   "metadata": {},
   "outputs": [
    {
     "name": "stderr",
     "output_type": "stream",
     "text": [
      "/Users/vega7unk/anaconda3/lib/python3.11/site-packages/seaborn/_oldcore.py:1119: FutureWarning: use_inf_as_na option is deprecated and will be removed in a future version. Convert inf values to NaN before operating instead.\n",
      "  with pd.option_context('mode.use_inf_as_na', True):\n"
     ]
    },
    {
     "data": {
      "image/png": "[encoded data removed]",
      "text/plain": [
       "<Figure size 1000x600 with 1 Axes>"
      ]
     },
     "metadata": {},
     "output_type": "display_data"
    }
   ],
   "source": [
    "# Plot a histogram to check for distribution and potential outliers\n",
    "plt.figure(figsize=(10, 6))\n",
    "sns.histplot(df['total_sales'], kde=True, bins=30)\n",
    "plt.title('Distribution of Total Sales')\n",
    "plt.xlabel('Total Sales')\n",
    "plt.ylabel('Frequency')\n",
    "plt.show()\n"
   ]
  },
  {
   "cell_type": "code",
   "execution_count": 24,
   "id": "14307ca0",
   "metadata": {},
   "outputs": [
    {
     "name": "stdout",
     "output_type": "stream",
     "text": [
      "Skewness of total_sales: 13.204313063374315\n"
     ]
    }
   ],
   "source": [
    "# Check the skewness of 'total_sales' in the dataset\n",
    "total_sales_skewness = df['total_sales'].skew()\n",
    "print(f\"Skewness of total_sales: {total_sales_skewness}\")\n",
    "\n"
   ]
  },
  {
   "cell_type": "code",
   "execution_count": 25,
   "id": "8fb5bbe0",
   "metadata": {},
   "outputs": [
    {
     "name": "stdout",
     "output_type": "stream",
     "text": [
      "Skewness of square root transformed total_sales: 2.237465834859933\n"
     ]
    },
    {
     "name": "stderr",
     "output_type": "stream",
     "text": [
      "/Users/vega7unk/anaconda3/lib/python3.11/site-packages/seaborn/_oldcore.py:1119: FutureWarning: use_inf_as_na option is deprecated and will be removed in a future version. Convert inf values to NaN before operating instead.\n",
      "  with pd.option_context('mode.use_inf_as_na', True):\n"
     ]
    },
    {
     "data": {
      "image/png": "[encoded data removed]",
      "text/plain": [
       "<Figure size 1000x600 with 1 Axes>"
      ]
     },
     "metadata": {},
     "output_type": "display_data"
    }
   ],
   "source": [
    "# Apply square root transformation\n",
    "df['total_sales_sqrt'] = np.sqrt(df['total_sales'])\n",
    "\n",
    "# Check skewness after square root transformation\n",
    "total_sales_sqrt_skewness = df['total_sales_sqrt'].skew()\n",
    "print(f\"Skewness of square root transformed total_sales: {total_sales_sqrt_skewness}\")\n",
    "\n",
    "# Plot the transformed data to visualize the impact\n",
    "plt.figure(figsize=(10, 6))\n",
    "sns.histplot(df['total_sales_sqrt'], kde=True, bins=30)\n",
    "plt.title('Distribution of Square Root Transformed Total Sales')\n",
    "plt.xlabel('Square Root Transformed Total Sales')\n",
    "plt.ylabel('Frequency')\n",
    "plt.show()"
   ]
  },
  {
   "cell_type": "code",
   "execution_count": 26,
   "id": "d61e4c53",
   "metadata": {},
   "outputs": [
    {
     "name": "stdout",
     "output_type": "stream",
     "text": [
      "Skewness of log-transformed total_sales: 1.4619903261800058\n"
     ]
    },
    {
     "name": "stderr",
     "output_type": "stream",
     "text": [
      "/Users/vega7unk/anaconda3/lib/python3.11/site-packages/seaborn/_oldcore.py:1119: FutureWarning: use_inf_as_na option is deprecated and will be removed in a future version. Convert inf values to NaN before operating instead.\n",
      "  with pd.option_context('mode.use_inf_as_na', True):\n"
     ]
    },
    {
     "data": {
      "image/png": "[encoded data removed]",
      "text/plain": [
       "<Figure size 1000x600 with 1 Axes>"
      ]
     },
     "metadata": {},
     "output_type": "display_data"
    }
   ],
   "source": [
    "# Apply log transformation (adding 1 to avoid log(0))\n",
    "df['total_sales_log'] = np.log1p(sales_data['total_sales'])\n",
    "\n",
    "# Check skewness after log transformation\n",
    "total_sales_log_skewness = df['total_sales_log'].skew()\n",
    "print(f\"Skewness of log-transformed total_sales: {total_sales_log_skewness}\")\n",
    "\n",
    "# Plot the log-transformed data to visualize the impact\n",
    "plt.figure(figsize=(10, 6))\n",
    "sns.histplot(df['total_sales_log'], kde=True, bins=30)\n",
    "plt.title('Distribution of Log-Transformed Total Sales')\n",
    "plt.xlabel('Log-Transformed Total Sales')\n",
    "plt.ylabel('Frequency')\n",
    "plt.show()\n"
   ]
  },
  {
   "cell_type": "markdown",
   "id": "6ca01008",
   "metadata": {},
   "source": [
    "### Applying Changes"
   ]
  },
  {
   "cell_type": "code",
   "execution_count": 32,
   "id": "a312a625",
   "metadata": {},
   "outputs": [
    {
     "name": "stdout",
     "output_type": "stream",
     "text": [
      "Number of rows before removing outliers: 47107050\n",
      "Number of rows after removing outliers: 46067836\n"
     ]
    }
   ],
   "source": [
    "# Apply log transformation to reduce skewness\n",
    "sales_data['total_sales_log'] = np.log1p(sales_data['total_sales'])\n",
    "\n",
    "# Calculate Q1 and Q3 for log-transformed data\n",
    "Q1 = sales_data['total_sales_log'].quantile(0.25)\n",
    "Q3 = sales_data['total_sales_log'].quantile(0.75)\n",
    "IQR = Q3 - Q1\n",
    "\n",
    "# Define acceptable range for log-transformed total_sales\n",
    "lower_bound = Q1 - 1.5 * IQR\n",
    "upper_bound = Q3 + 1.5 * IQR\n",
    "\n",
    "# Find outliers based on log-transformed data\n",
    "filtered_sales_data = sales_data[(sales_data['total_sales_log'] >= lower_bound) & (sales_data['total_sales_log'] <= upper_bound)]\n",
    "\n",
    "print(f\"Number of rows before removing outliers: {sales_data.shape[0]}\")\n",
    "print(f\"Number of rows after removing outliers: {filtered_sales_data.shape[0]}\")"
   ]
  },
  {
   "cell_type": "code",
   "execution_count": 35,
   "id": "8f25fc0f",
   "metadata": {},
   "outputs": [
    {
     "name": "stderr",
     "output_type": "stream",
     "text": [
      "/Users/vega7unk/anaconda3/lib/python3.11/site-packages/seaborn/_oldcore.py:1119: FutureWarning: use_inf_as_na option is deprecated and will be removed in a future version. Convert inf values to NaN before operating instead.\n",
      "  with pd.option_context('mode.use_inf_as_na', True):\n"
     ]
    },
    {
     "data": {
      "image/png": "[encoded data removed]",
      "text/plain": [
       "<Figure size 1000x600 with 1 Axes>"
      ]
     },
     "metadata": {},
     "output_type": "display_data"
    }
   ],
   "source": [
    "plt.figure(figsize=(10, 6))\n",
    "sns.histplot(filtered_sales_data['total_sales'], kde=True, bins=30)\n",
    "plt.title('Distribution of Log-Transformed Total Sales')\n",
    "plt.xlabel('Log-Transformed Total Sales')\n",
    "plt.ylabel('Frequency')\n",
    "plt.show()"
   ]
  },
  {
   "cell_type": "code",
   "execution_count": 34,
   "id": "2b9a54c0",
   "metadata": {},
   "outputs": [
    {
     "data": {
      "text/html": [
       "<div>\n",
       "<style scoped>\n",
       "    .dataframe tbody tr th:only-of-type {\n",
       "        vertical-align: middle;\n",
       "    }\n",
       "\n",
       "    .dataframe tbody tr th {\n",
       "        vertical-align: top;\n",
       "    }\n",
       "\n",
       "    .dataframe thead th {\n",
       "        text-align: right;\n",
       "    }\n",
       "</style>\n",
       "<table border=\"1\" class=\"dataframe\">\n",
       "  <thead>\n",
       "    <tr style=\"text-align: right;\">\n",
       "      <th></th>\n",
       "      <th>item_id</th>\n",
       "      <th>dept_id</th>\n",
       "      <th>cat_id</th>\n",
       "      <th>store_id</th>\n",
       "      <th>state_id</th>\n",
       "      <th>total_sales</th>\n",
       "      <th>day_of_week</th>\n",
       "      <th>month</th>\n",
       "      <th>year</th>\n",
       "      <th>total_sales_log</th>\n",
       "    </tr>\n",
       "  </thead>\n",
       "  <tbody>\n",
       "    <tr>\n",
       "      <th>0</th>\n",
       "      <td>1437</td>\n",
       "      <td>3</td>\n",
       "      <td>1</td>\n",
       "      <td>0</td>\n",
       "      <td>0</td>\n",
       "      <td>0.0</td>\n",
       "      <td>5</td>\n",
       "      <td>1</td>\n",
       "      <td>2011</td>\n",
       "      <td>0.0</td>\n",
       "    </tr>\n",
       "    <tr>\n",
       "      <th>1</th>\n",
       "      <td>1438</td>\n",
       "      <td>3</td>\n",
       "      <td>1</td>\n",
       "      <td>0</td>\n",
       "      <td>0</td>\n",
       "      <td>0.0</td>\n",
       "      <td>5</td>\n",
       "      <td>1</td>\n",
       "      <td>2011</td>\n",
       "      <td>0.0</td>\n",
       "    </tr>\n",
       "    <tr>\n",
       "      <th>2</th>\n",
       "      <td>1439</td>\n",
       "      <td>3</td>\n",
       "      <td>1</td>\n",
       "      <td>0</td>\n",
       "      <td>0</td>\n",
       "      <td>0.0</td>\n",
       "      <td>5</td>\n",
       "      <td>1</td>\n",
       "      <td>2011</td>\n",
       "      <td>0.0</td>\n",
       "    </tr>\n",
       "    <tr>\n",
       "      <th>3</th>\n",
       "      <td>1440</td>\n",
       "      <td>3</td>\n",
       "      <td>1</td>\n",
       "      <td>0</td>\n",
       "      <td>0</td>\n",
       "      <td>0.0</td>\n",
       "      <td>5</td>\n",
       "      <td>1</td>\n",
       "      <td>2011</td>\n",
       "      <td>0.0</td>\n",
       "    </tr>\n",
       "    <tr>\n",
       "      <th>4</th>\n",
       "      <td>1441</td>\n",
       "      <td>3</td>\n",
       "      <td>1</td>\n",
       "      <td>0</td>\n",
       "      <td>0</td>\n",
       "      <td>0.0</td>\n",
       "      <td>5</td>\n",
       "      <td>1</td>\n",
       "      <td>2011</td>\n",
       "      <td>0.0</td>\n",
       "    </tr>\n",
       "  </tbody>\n",
       "</table>\n",
       "</div>"
      ],
      "text/plain": [
       "   item_id  dept_id  cat_id  store_id  state_id  total_sales  day_of_week  \\\n",
       "0     1437        3       1         0         0          0.0            5   \n",
       "1     1438        3       1         0         0          0.0            5   \n",
       "2     1439        3       1         0         0          0.0            5   \n",
       "3     1440        3       1         0         0          0.0            5   \n",
       "4     1441        3       1         0         0          0.0            5   \n",
       "\n",
       "   month  year  total_sales_log  \n",
       "0      1  2011              0.0  \n",
       "1      1  2011              0.0  \n",
       "2      1  2011              0.0  \n",
       "3      1  2011              0.0  \n",
       "4      1  2011              0.0  "
      ]
     },
     "execution_count": 34,
     "metadata": {},
     "output_type": "execute_result"
    }
   ],
   "source": [
    "filtered_sales_data.head()"
   ]
  },
  {
   "cell_type": "code",
   "execution_count": 36,
   "id": "5fb20fc6",
   "metadata": {},
   "outputs": [],
   "source": [
    "filtered_sales_data = filtered_sales_data.drop(columns=['total_sales_log'])"
   ]
  },
  {
   "cell_type": "code",
   "execution_count": 37,
   "id": "d3d2d836",
   "metadata": {},
   "outputs": [
    {
     "name": "stdout",
     "output_type": "stream",
     "text": [
      "Number of outliers detected using Isolation Forest: 471071\n"
     ]
    }
   ],
   "source": [
    "from sklearn.ensemble import IsolationForest\n",
    "\n",
    "# Define the features to use for Isolation Forest\n",
    "features = ['total_sales', 'day_of_week', 'month', 'store_id', 'item_id']\n",
    "X = sales_data[features]\n",
    "\n",
    "# Train an Isolation Forest model\n",
    "isolation_forest = IsolationForest(contamination=0.01, random_state=42)\n",
    "sales_data['anomaly'] = isolation_forest.fit_predict(X)\n",
    "\n",
    "# Identify the outliers\n",
    "outliers_if = sales_data[sales_data['anomaly'] == -1]\n",
    "print(f\"Number of outliers detected using Isolation Forest: {outliers_if.shape[0]}\")\n"
   ]
  },
  {
   "cell_type": "code",
   "execution_count": null,
   "id": "d472e1e5",
   "metadata": {},
   "outputs": [],
   "source": []
  },
  {
   "cell_type": "code",
   "execution_count": null,
   "id": "9b837a06",
   "metadata": {},
   "outputs": [],
   "source": []
  },
  {
   "cell_type": "code",
   "execution_count": null,
   "id": "c5ee1d7a",
   "metadata": {},
   "outputs": [],
   "source": []
  },
  {
   "cell_type": "code",
   "execution_count": null,
   "id": "41709ac3",
   "metadata": {},
   "outputs": [],
   "source": []
  },
  {
   "cell_type": "code",
   "execution_count": null,
   "id": "59a515b4",
   "metadata": {},
   "outputs": [],
   "source": []
  },
  {
   "cell_type": "code",
   "execution_count": null,
   "id": "12c21a8e",
   "metadata": {},
   "outputs": [],
   "source": []
  },
  {
   "cell_type": "code",
   "execution_count": null,
   "id": "ca75c5be",
   "metadata": {},
   "outputs": [],
   "source": []
  },
  {
   "cell_type": "code",
   "execution_count": null,
   "id": "710960f1",
   "metadata": {},
   "outputs": [],
   "source": [
    "import os\n",
    "\n",
    "# Define the directory path\n",
    "output_dir = '../data'\n",
    "\n",
    "# Save df_cleaned_scaled as a CSV file\n",
    "df_cleaned.to_csv(os.path.join(output_dir, 'df_transformed.csv'), index=False)\n",
    "\n",
    "# Print confirmation\n",
    "print(f\"Files saved successfully in '{output_dir}' directory.\")"
   ]
  },
  {
   "cell_type": "code",
   "execution_count": null,
   "id": "75f22ee6",
   "metadata": {},
   "outputs": [],
   "source": []
  }
 ],
 "metadata": {
  "kernelspec": {
   "display_name": "Python 3 (ipykernel)",
   "language": "python",
   "name": "python3"
  },
  "language_info": {
   "codemirror_mode": {
    "name": "ipython",
    "version": 3
   },
   "file_extension": ".py",
   "mimetype": "text/x-python",
   "name": "python",
   "nbconvert_exporter": "python",
   "pygments_lexer": "ipython3",
   "version": "3.11.3"
  }
 },
 "nbformat": 4,
 "nbformat_minor": 5
}
