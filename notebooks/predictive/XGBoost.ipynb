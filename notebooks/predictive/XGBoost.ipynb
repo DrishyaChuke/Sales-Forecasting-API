{
 "cells": [
  {
   "cell_type": "code",
   "execution_count": 1,
   "id": "ea0637b7",
   "metadata": {},
   "outputs": [],
   "source": [
    "%load_ext autoreload\n",
    "%autoreload 2"
   ]
  },
  {
   "cell_type": "code",
   "execution_count": 2,
   "id": "cca3b7ec",
   "metadata": {
    "scrolled": true
   },
   "outputs": [
    {
     "name": "stdout",
     "output_type": "stream",
     "text": [
      "Looking in indexes: https://test.pypi.org/simple/\n",
      "Requirement already satisfied: my_krml_25076922==2024.0.3.3 in /Users/vega7unk/anaconda3/lib/python3.11/site-packages (2024.0.3.3)\n",
      "Requirement already satisfied: pandas==2.2.2 in /Users/vega7unk/anaconda3/lib/python3.11/site-packages (from my_krml_25076922==2024.0.3.3) (2.2.2)\n",
      "Requirement already satisfied: scikit-learn==1.5.1 in /Users/vega7unk/anaconda3/lib/python3.11/site-packages (from my_krml_25076922==2024.0.3.3) (1.5.1)\n",
      "Requirement already satisfied: tqdm<5.0.0,>=4.0.0 in /Users/vega7unk/anaconda3/lib/python3.11/site-packages (from my_krml_25076922==2024.0.3.3) (4.65.0)\n",
      "Requirement already satisfied: numpy>=1.23.2 in /Users/vega7unk/anaconda3/lib/python3.11/site-packages (from pandas==2.2.2->my_krml_25076922==2024.0.3.3) (1.24.3)\n",
      "Requirement already satisfied: python-dateutil>=2.8.2 in /Users/vega7unk/anaconda3/lib/python3.11/site-packages (from pandas==2.2.2->my_krml_25076922==2024.0.3.3) (2.8.2)\n",
      "Requirement already satisfied: pytz>=2020.1 in /Users/vega7unk/anaconda3/lib/python3.11/site-packages (from pandas==2.2.2->my_krml_25076922==2024.0.3.3) (2022.7)\n",
      "Requirement already satisfied: tzdata>=2022.7 in /Users/vega7unk/anaconda3/lib/python3.11/site-packages (from pandas==2.2.2->my_krml_25076922==2024.0.3.3) (2023.3)\n",
      "Requirement already satisfied: scipy>=1.6.0 in /Users/vega7unk/anaconda3/lib/python3.11/site-packages (from scikit-learn==1.5.1->my_krml_25076922==2024.0.3.3) (1.11.1)\n",
      "Requirement already satisfied: joblib>=1.2.0 in /Users/vega7unk/anaconda3/lib/python3.11/site-packages (from scikit-learn==1.5.1->my_krml_25076922==2024.0.3.3) (1.2.0)\n",
      "Requirement already satisfied: threadpoolctl>=3.1.0 in /Users/vega7unk/anaconda3/lib/python3.11/site-packages (from scikit-learn==1.5.1->my_krml_25076922==2024.0.3.3) (3.5.0)\n",
      "Requirement already satisfied: six>=1.5 in /Users/vega7unk/anaconda3/lib/python3.11/site-packages (from python-dateutil>=2.8.2->pandas==2.2.2->my_krml_25076922==2024.0.3.3) (1.16.0)\n",
      "Note: you may need to restart the kernel to use updated packages.\n"
     ]
    }
   ],
   "source": [
    "pip install -i https://test.pypi.org/simple/ my_krml_25076922==2024.0.3.3"
   ]
  },
  {
   "cell_type": "code",
   "execution_count": 3,
   "id": "87bd32a2",
   "metadata": {},
   "outputs": [
    {
     "name": "stderr",
     "output_type": "stream",
     "text": [
      "/Users/vega7unk/anaconda3/lib/python3.11/site-packages/pandas/core/arrays/masked.py:60: UserWarning: Pandas requires version '1.3.6' or newer of 'bottleneck' (version '1.3.5' currently installed).\n",
      "  from pandas.core import (\n"
     ]
    }
   ],
   "source": [
    "import pandas as pd\n",
    "import numpy as np\n",
    "\n",
    "import os"
   ]
  },
  {
   "cell_type": "code",
   "execution_count": 4,
   "id": "8187e2c3",
   "metadata": {},
   "outputs": [],
   "source": [
    "path ='/Users/vega7unk/Documents/3rd_Sem_DSI/Adv_ML/AT2/Project/adv_mla_at2/data'\n",
    "\n",
    "sales_data = pd.read_csv(f'{path}/df_cleaned.csv')"
   ]
  },
  {
   "cell_type": "code",
   "execution_count": 5,
   "id": "f69963c3",
   "metadata": {},
   "outputs": [
    {
     "data": {
      "text/html": [
       "<div>\n",
       "<style scoped>\n",
       "    .dataframe tbody tr th:only-of-type {\n",
       "        vertical-align: middle;\n",
       "    }\n",
       "\n",
       "    .dataframe tbody tr th {\n",
       "        vertical-align: top;\n",
       "    }\n",
       "\n",
       "    .dataframe thead th {\n",
       "        text-align: right;\n",
       "    }\n",
       "</style>\n",
       "<table border=\"1\" class=\"dataframe\">\n",
       "  <thead>\n",
       "    <tr style=\"text-align: right;\">\n",
       "      <th></th>\n",
       "      <th>item_id</th>\n",
       "      <th>dept_id</th>\n",
       "      <th>cat_id</th>\n",
       "      <th>store_id</th>\n",
       "      <th>state_id</th>\n",
       "      <th>total_sales</th>\n",
       "      <th>day_of_week</th>\n",
       "      <th>month</th>\n",
       "      <th>year</th>\n",
       "    </tr>\n",
       "  </thead>\n",
       "  <tbody>\n",
       "    <tr>\n",
       "      <th>0</th>\n",
       "      <td>1437</td>\n",
       "      <td>3</td>\n",
       "      <td>1</td>\n",
       "      <td>0</td>\n",
       "      <td>0</td>\n",
       "      <td>-0.330511</td>\n",
       "      <td>0.993873</td>\n",
       "      <td>-1.539218</td>\n",
       "      <td>-1.371861</td>\n",
       "    </tr>\n",
       "    <tr>\n",
       "      <th>1</th>\n",
       "      <td>1438</td>\n",
       "      <td>3</td>\n",
       "      <td>1</td>\n",
       "      <td>0</td>\n",
       "      <td>0</td>\n",
       "      <td>-0.330511</td>\n",
       "      <td>0.993873</td>\n",
       "      <td>-1.539218</td>\n",
       "      <td>-1.371861</td>\n",
       "    </tr>\n",
       "    <tr>\n",
       "      <th>2</th>\n",
       "      <td>1439</td>\n",
       "      <td>3</td>\n",
       "      <td>1</td>\n",
       "      <td>0</td>\n",
       "      <td>0</td>\n",
       "      <td>-0.330511</td>\n",
       "      <td>0.993873</td>\n",
       "      <td>-1.539218</td>\n",
       "      <td>-1.371861</td>\n",
       "    </tr>\n",
       "    <tr>\n",
       "      <th>3</th>\n",
       "      <td>1440</td>\n",
       "      <td>3</td>\n",
       "      <td>1</td>\n",
       "      <td>0</td>\n",
       "      <td>0</td>\n",
       "      <td>-0.330511</td>\n",
       "      <td>0.993873</td>\n",
       "      <td>-1.539218</td>\n",
       "      <td>-1.371861</td>\n",
       "    </tr>\n",
       "    <tr>\n",
       "      <th>4</th>\n",
       "      <td>1441</td>\n",
       "      <td>3</td>\n",
       "      <td>1</td>\n",
       "      <td>0</td>\n",
       "      <td>0</td>\n",
       "      <td>-0.330511</td>\n",
       "      <td>0.993873</td>\n",
       "      <td>-1.539218</td>\n",
       "      <td>-1.371861</td>\n",
       "    </tr>\n",
       "  </tbody>\n",
       "</table>\n",
       "</div>"
      ],
      "text/plain": [
       "   item_id  dept_id  cat_id  store_id  state_id  total_sales  day_of_week  \\\n",
       "0     1437        3       1         0         0    -0.330511     0.993873   \n",
       "1     1438        3       1         0         0    -0.330511     0.993873   \n",
       "2     1439        3       1         0         0    -0.330511     0.993873   \n",
       "3     1440        3       1         0         0    -0.330511     0.993873   \n",
       "4     1441        3       1         0         0    -0.330511     0.993873   \n",
       "\n",
       "      month      year  \n",
       "0 -1.539218 -1.371861  \n",
       "1 -1.539218 -1.371861  \n",
       "2 -1.539218 -1.371861  \n",
       "3 -1.539218 -1.371861  \n",
       "4 -1.539218 -1.371861  "
      ]
     },
     "execution_count": 5,
     "metadata": {},
     "output_type": "execute_result"
    }
   ],
   "source": [
    "from my_krml_25076922.features.data_processing import scale_features\n",
    "\n",
    "# List of features to scale\n",
    "features_to_scale = ['total_sales', 'day_of_week', 'month','year']\n",
    "\n",
    "# Apply scaling to the numerical columns\n",
    "sales_data = scale_features(sales_data, features_to_scale)\n",
    "\n",
    "# Preview the scaled data\n",
    "sales_data.head()"
   ]
  },
  {
   "cell_type": "code",
   "execution_count": 6,
   "id": "f6a3c985",
   "metadata": {},
   "outputs": [],
   "source": [
    "target = sales_data.pop('total_sales')"
   ]
  },
  {
   "cell_type": "code",
   "execution_count": 7,
   "id": "8bbcd1da",
   "metadata": {},
   "outputs": [],
   "source": [
    "from my_krml_25076922.data.sets import split_sets_random\n",
    "\n",
    "X_train, y_train, X_val, y_val, X_test, y_test = split_sets_random(sales_data, target, test_ratio=0.2)"
   ]
  },
  {
   "cell_type": "code",
   "execution_count": 8,
   "id": "d00b2506",
   "metadata": {
    "scrolled": true
   },
   "outputs": [
    {
     "name": "stderr",
     "output_type": "stream",
     "text": [
      "/Users/vega7unk/anaconda3/lib/python3.11/site-packages/xgboost/sklearn.py:885: UserWarning: `early_stopping_rounds` in `fit` method is deprecated for better compatibility with scikit-learn, use `early_stopping_rounds` in constructor or`set_params` instead.\n",
      "  warnings.warn(\n"
     ]
    },
    {
     "name": "stdout",
     "output_type": "stream",
     "text": [
      "[0]\tvalidation_0-rmse:0.99556\n",
      "[1]\tvalidation_0-rmse:0.99337\n",
      "[2]\tvalidation_0-rmse:0.99121\n",
      "[3]\tvalidation_0-rmse:0.98948\n",
      "[4]\tvalidation_0-rmse:0.98802\n",
      "[5]\tvalidation_0-rmse:0.98697\n",
      "[6]\tvalidation_0-rmse:0.98544\n",
      "[7]\tvalidation_0-rmse:0.98421\n",
      "[8]\tvalidation_0-rmse:0.98317\n",
      "[9]\tvalidation_0-rmse:0.98244\n",
      "[10]\tvalidation_0-rmse:0.98193\n",
      "[11]\tvalidation_0-rmse:0.98150\n",
      "[12]\tvalidation_0-rmse:0.98108\n",
      "[13]\tvalidation_0-rmse:0.98019\n",
      "[14]\tvalidation_0-rmse:0.97956\n",
      "[15]\tvalidation_0-rmse:0.97907\n",
      "[16]\tvalidation_0-rmse:0.97869\n",
      "[17]\tvalidation_0-rmse:0.97817\n",
      "[18]\tvalidation_0-rmse:0.97761\n",
      "[19]\tvalidation_0-rmse:0.97730\n",
      "[20]\tvalidation_0-rmse:0.97677\n",
      "[21]\tvalidation_0-rmse:0.97638\n",
      "[22]\tvalidation_0-rmse:0.97620\n",
      "[23]\tvalidation_0-rmse:0.97602\n",
      "[24]\tvalidation_0-rmse:0.97565\n",
      "[25]\tvalidation_0-rmse:0.97546\n",
      "[26]\tvalidation_0-rmse:0.97496\n",
      "[27]\tvalidation_0-rmse:0.97484\n",
      "[28]\tvalidation_0-rmse:0.97474\n",
      "[29]\tvalidation_0-rmse:0.97461\n",
      "[30]\tvalidation_0-rmse:0.97443\n",
      "[31]\tvalidation_0-rmse:0.97424\n",
      "[32]\tvalidation_0-rmse:0.97386\n",
      "[33]\tvalidation_0-rmse:0.97376\n",
      "[34]\tvalidation_0-rmse:0.97370\n",
      "[35]\tvalidation_0-rmse:0.97358\n",
      "[36]\tvalidation_0-rmse:0.97349\n",
      "[37]\tvalidation_0-rmse:0.97338\n",
      "[38]\tvalidation_0-rmse:0.97318\n",
      "[39]\tvalidation_0-rmse:0.97296\n",
      "[40]\tvalidation_0-rmse:0.97291\n",
      "[41]\tvalidation_0-rmse:0.97284\n",
      "[42]\tvalidation_0-rmse:0.97277\n",
      "[43]\tvalidation_0-rmse:0.97273\n",
      "[44]\tvalidation_0-rmse:0.97253\n",
      "[45]\tvalidation_0-rmse:0.97237\n",
      "[46]\tvalidation_0-rmse:0.97234\n",
      "[47]\tvalidation_0-rmse:0.97230\n",
      "[48]\tvalidation_0-rmse:0.97225\n",
      "[49]\tvalidation_0-rmse:0.97211\n",
      "[50]\tvalidation_0-rmse:0.97199\n",
      "[51]\tvalidation_0-rmse:0.97176\n",
      "[52]\tvalidation_0-rmse:0.97173\n",
      "[53]\tvalidation_0-rmse:0.97164\n",
      "[54]\tvalidation_0-rmse:0.97152\n",
      "[55]\tvalidation_0-rmse:0.97134\n",
      "[56]\tvalidation_0-rmse:0.97131\n",
      "[57]\tvalidation_0-rmse:0.97128\n",
      "[58]\tvalidation_0-rmse:0.97114\n",
      "[59]\tvalidation_0-rmse:0.97107\n",
      "[60]\tvalidation_0-rmse:0.97093\n",
      "[61]\tvalidation_0-rmse:0.97087\n",
      "[62]\tvalidation_0-rmse:0.97085\n",
      "[63]\tvalidation_0-rmse:0.97078\n",
      "[64]\tvalidation_0-rmse:0.97044\n",
      "[65]\tvalidation_0-rmse:0.97032\n",
      "[66]\tvalidation_0-rmse:0.97006\n",
      "[67]\tvalidation_0-rmse:0.96995\n",
      "[68]\tvalidation_0-rmse:0.96978\n",
      "[69]\tvalidation_0-rmse:0.96970\n",
      "[70]\tvalidation_0-rmse:0.96964\n",
      "[71]\tvalidation_0-rmse:0.96961\n",
      "[72]\tvalidation_0-rmse:0.96955\n",
      "[73]\tvalidation_0-rmse:0.96952\n",
      "[74]\tvalidation_0-rmse:0.96949\n",
      "[75]\tvalidation_0-rmse:0.96929\n",
      "[76]\tvalidation_0-rmse:0.96928\n",
      "[77]\tvalidation_0-rmse:0.96909\n",
      "[78]\tvalidation_0-rmse:0.96900\n",
      "[79]\tvalidation_0-rmse:0.96887\n",
      "[80]\tvalidation_0-rmse:0.96885\n",
      "[81]\tvalidation_0-rmse:0.96883\n",
      "[82]\tvalidation_0-rmse:0.96872\n",
      "[83]\tvalidation_0-rmse:0.96869\n",
      "[84]\tvalidation_0-rmse:0.96860\n",
      "[85]\tvalidation_0-rmse:0.96846\n",
      "[86]\tvalidation_0-rmse:0.96844\n",
      "[87]\tvalidation_0-rmse:0.96824\n",
      "[88]\tvalidation_0-rmse:0.96823\n",
      "[89]\tvalidation_0-rmse:0.96811\n",
      "[90]\tvalidation_0-rmse:0.96802\n",
      "[91]\tvalidation_0-rmse:0.96799\n",
      "[92]\tvalidation_0-rmse:0.96789\n",
      "[93]\tvalidation_0-rmse:0.96781\n",
      "[94]\tvalidation_0-rmse:0.96781\n",
      "[95]\tvalidation_0-rmse:0.96779\n",
      "[96]\tvalidation_0-rmse:0.96768\n",
      "[97]\tvalidation_0-rmse:0.96762\n",
      "[98]\tvalidation_0-rmse:0.96749\n",
      "[99]\tvalidation_0-rmse:0.96748\n"
     ]
    }
   ],
   "source": [
    "import xgboost as xgb\n",
    "\n",
    "xgb_model = xgb.XGBRegressor(\n",
    "    n_estimators=100,          # Number of trees\n",
    "    learning_rate=0.1,         # Step size shrinkage\n",
    "    max_depth=6,               # Maximum tree depth for base learners\n",
    "    subsample=0.8,             # Subsample ratio of the training instance\n",
    "    colsample_bytree=0.8,      # Subsample ratio of columns when constructing each tree\n",
    "    random_state=42\n",
    ")\n",
    "\n",
    "# Fit the model on the training data\n",
    "xgb_model.fit(X_train, y_train, eval_set=[(X_val, y_val)], early_stopping_rounds=10, verbose=True)\n",
    "\n",
    "# Make predictions on the validation set\n",
    "y_pred = xgb_model.predict(X_val)"
   ]
  },
  {
   "cell_type": "code",
   "execution_count": 9,
   "id": "9bec6f5b",
   "metadata": {},
   "outputs": [
    {
     "name": "stdout",
     "output_type": "stream",
     "text": [
      "RMSE Validation: 0.9674759756375952\n",
      "MAE Validation: 0.44916161068867544\n"
     ]
    },
    {
     "name": "stderr",
     "output_type": "stream",
     "text": [
      "/Users/vega7unk/anaconda3/lib/python3.11/site-packages/sklearn/metrics/_regression.py:492: FutureWarning: 'squared' is deprecated in version 1.4 and will be removed in 1.6. To calculate the root mean squared error, use the function'root_mean_squared_error'.\n",
      "  warnings.warn(\n"
     ]
    }
   ],
   "source": [
    "from sklearn.metrics import mean_squared_error, mean_absolute_error\n",
    "\n",
    "# Evaluate the model\n",
    "rmse = mean_squared_error(y_val, y_pred, squared=False)  # RMSE\n",
    "mae = mean_absolute_error(y_val, y_pred)\n",
    "\n",
    "print(f\"RMSE Validation: {rmse}\")\n",
    "print(f\"MAE Validation: {mae}\")"
   ]
  },
  {
   "cell_type": "code",
   "execution_count": 12,
   "id": "e65343ed",
   "metadata": {},
   "outputs": [
    {
     "data": {
      "text/plain": [
       "['/Users/vega7unk/Documents/3rd_Sem_DSI/Adv_ML/AT2/Project/adv_mla_at2/models/predictive/xgb_predictive_model.pkl']"
      ]
     },
     "execution_count": 12,
     "metadata": {},
     "output_type": "execute_result"
    }
   ],
   "source": [
    "import joblib\n",
    "\n",
    "joblib.dump(xgb_model, '/Users/vega7unk/Documents/3rd_Sem_DSI/Adv_ML/AT2/Project/adv_mla_at2/models/predictive/xgb_predictive_model.pkl')"
   ]
  },
  {
   "cell_type": "code",
   "execution_count": null,
   "id": "531d3b94",
   "metadata": {},
   "outputs": [],
   "source": []
  }
 ],
 "metadata": {
  "kernelspec": {
   "display_name": "Python 3 (ipykernel)",
   "language": "python",
   "name": "python3"
  },
  "language_info": {
   "codemirror_mode": {
    "name": "ipython",
    "version": 3
   },
   "file_extension": ".py",
   "mimetype": "text/x-python",
   "name": "python",
   "nbconvert_exporter": "python",
   "pygments_lexer": "ipython3",
   "version": "3.11.3"
  }
 },
 "nbformat": 4,
 "nbformat_minor": 5
}
