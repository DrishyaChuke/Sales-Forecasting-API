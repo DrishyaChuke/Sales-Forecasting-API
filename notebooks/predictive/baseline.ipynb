{
 "cells": [
  {
   "cell_type": "code",
   "execution_count": 1,
   "id": "ea0637b7",
   "metadata": {},
   "outputs": [],
   "source": [
    "%load_ext autoreload\n",
    "%autoreload 2"
   ]
  },
  {
   "cell_type": "code",
   "execution_count": 2,
   "id": "cca3b7ec",
   "metadata": {
    "scrolled": true
   },
   "outputs": [
    {
     "name": "stdout",
     "output_type": "stream",
     "text": [
      "Looking in indexes: https://test.pypi.org/simple/\n",
      "Requirement already satisfied: my_krml_25076922==2024.0.3.4 in /Users/vega7unk/anaconda3/lib/python3.11/site-packages (2024.0.3.4)\n",
      "Requirement already satisfied: pandas==2.2.2 in /Users/vega7unk/anaconda3/lib/python3.11/site-packages (from my_krml_25076922==2024.0.3.4) (2.2.2)\n",
      "Requirement already satisfied: scikit-learn==1.5.1 in /Users/vega7unk/anaconda3/lib/python3.11/site-packages (from my_krml_25076922==2024.0.3.4) (1.5.1)\n",
      "Requirement already satisfied: tqdm<5.0.0,>=4.0.0 in /Users/vega7unk/anaconda3/lib/python3.11/site-packages (from my_krml_25076922==2024.0.3.4) (4.65.0)\n",
      "Requirement already satisfied: numpy>=1.23.2 in /Users/vega7unk/anaconda3/lib/python3.11/site-packages (from pandas==2.2.2->my_krml_25076922==2024.0.3.4) (1.24.3)\n",
      "Requirement already satisfied: python-dateutil>=2.8.2 in /Users/vega7unk/anaconda3/lib/python3.11/site-packages (from pandas==2.2.2->my_krml_25076922==2024.0.3.4) (2.8.2)\n",
      "Requirement already satisfied: pytz>=2020.1 in /Users/vega7unk/anaconda3/lib/python3.11/site-packages (from pandas==2.2.2->my_krml_25076922==2024.0.3.4) (2022.7)\n",
      "Requirement already satisfied: tzdata>=2022.7 in /Users/vega7unk/anaconda3/lib/python3.11/site-packages (from pandas==2.2.2->my_krml_25076922==2024.0.3.4) (2023.3)\n",
      "Requirement already satisfied: scipy>=1.6.0 in /Users/vega7unk/anaconda3/lib/python3.11/site-packages (from scikit-learn==1.5.1->my_krml_25076922==2024.0.3.4) (1.11.1)\n",
      "Requirement already satisfied: joblib>=1.2.0 in /Users/vega7unk/anaconda3/lib/python3.11/site-packages (from scikit-learn==1.5.1->my_krml_25076922==2024.0.3.4) (1.2.0)\n",
      "Requirement already satisfied: threadpoolctl>=3.1.0 in /Users/vega7unk/anaconda3/lib/python3.11/site-packages (from scikit-learn==1.5.1->my_krml_25076922==2024.0.3.4) (3.5.0)\n",
      "Requirement already satisfied: six>=1.5 in /Users/vega7unk/anaconda3/lib/python3.11/site-packages (from python-dateutil>=2.8.2->pandas==2.2.2->my_krml_25076922==2024.0.3.4) (1.16.0)\n",
      "Note: you may need to restart the kernel to use updated packages.\n"
     ]
    }
   ],
   "source": [
    "pip install -i https://test.pypi.org/simple/ my_krml_25076922==2024.0.3.4"
   ]
  },
  {
   "cell_type": "code",
   "execution_count": 3,
   "id": "87bd32a2",
   "metadata": {},
   "outputs": [
    {
     "name": "stderr",
     "output_type": "stream",
     "text": [
      "/Users/vega7unk/anaconda3/lib/python3.11/site-packages/pandas/core/arrays/masked.py:60: UserWarning: Pandas requires version '1.3.6' or newer of 'bottleneck' (version '1.3.5' currently installed).\n",
      "  from pandas.core import (\n"
     ]
    }
   ],
   "source": [
    "import pandas as pd\n",
    "import numpy as np\n",
    "\n",
    "import os"
   ]
  },
  {
   "cell_type": "code",
   "execution_count": 4,
   "id": "8187e2c3",
   "metadata": {},
   "outputs": [],
   "source": [
    "path ='/Users/vega7unk/Documents/3rd_Sem_DSI/Adv_ML/AT2/Project/adv_mla_at2/data/processed'\n",
    "\n",
    "sales_data = pd.read_csv(f'{path}/df_pred.csv')"
   ]
  },
  {
   "cell_type": "code",
   "execution_count": 5,
   "id": "7e756b62",
   "metadata": {},
   "outputs": [
    {
     "data": {
      "text/html": [
       "<div>\n",
       "<style scoped>\n",
       "    .dataframe tbody tr th:only-of-type {\n",
       "        vertical-align: middle;\n",
       "    }\n",
       "\n",
       "    .dataframe tbody tr th {\n",
       "        vertical-align: top;\n",
       "    }\n",
       "\n",
       "    .dataframe thead th {\n",
       "        text-align: right;\n",
       "    }\n",
       "</style>\n",
       "<table border=\"1\" class=\"dataframe\">\n",
       "  <thead>\n",
       "    <tr style=\"text-align: right;\">\n",
       "      <th></th>\n",
       "      <th>item_id</th>\n",
       "      <th>store_id</th>\n",
       "      <th>date</th>\n",
       "      <th>total_sales</th>\n",
       "      <th>day_of_week</th>\n",
       "      <th>month</th>\n",
       "      <th>year</th>\n",
       "    </tr>\n",
       "  </thead>\n",
       "  <tbody>\n",
       "    <tr>\n",
       "      <th>0</th>\n",
       "      <td>HOBBIES_1_001</td>\n",
       "      <td>CA_1</td>\n",
       "      <td>2011-01-29</td>\n",
       "      <td>0.0</td>\n",
       "      <td>5</td>\n",
       "      <td>1</td>\n",
       "      <td>2011</td>\n",
       "    </tr>\n",
       "    <tr>\n",
       "      <th>1</th>\n",
       "      <td>HOBBIES_1_002</td>\n",
       "      <td>CA_1</td>\n",
       "      <td>2011-01-29</td>\n",
       "      <td>0.0</td>\n",
       "      <td>5</td>\n",
       "      <td>1</td>\n",
       "      <td>2011</td>\n",
       "    </tr>\n",
       "    <tr>\n",
       "      <th>2</th>\n",
       "      <td>HOBBIES_1_003</td>\n",
       "      <td>CA_1</td>\n",
       "      <td>2011-01-29</td>\n",
       "      <td>0.0</td>\n",
       "      <td>5</td>\n",
       "      <td>1</td>\n",
       "      <td>2011</td>\n",
       "    </tr>\n",
       "    <tr>\n",
       "      <th>3</th>\n",
       "      <td>HOBBIES_1_004</td>\n",
       "      <td>CA_1</td>\n",
       "      <td>2011-01-29</td>\n",
       "      <td>0.0</td>\n",
       "      <td>5</td>\n",
       "      <td>1</td>\n",
       "      <td>2011</td>\n",
       "    </tr>\n",
       "    <tr>\n",
       "      <th>4</th>\n",
       "      <td>HOBBIES_1_005</td>\n",
       "      <td>CA_1</td>\n",
       "      <td>2011-01-29</td>\n",
       "      <td>0.0</td>\n",
       "      <td>5</td>\n",
       "      <td>1</td>\n",
       "      <td>2011</td>\n",
       "    </tr>\n",
       "  </tbody>\n",
       "</table>\n",
       "</div>"
      ],
      "text/plain": [
       "         item_id store_id        date  total_sales  day_of_week  month  year\n",
       "0  HOBBIES_1_001     CA_1  2011-01-29          0.0            5      1  2011\n",
       "1  HOBBIES_1_002     CA_1  2011-01-29          0.0            5      1  2011\n",
       "2  HOBBIES_1_003     CA_1  2011-01-29          0.0            5      1  2011\n",
       "3  HOBBIES_1_004     CA_1  2011-01-29          0.0            5      1  2011\n",
       "4  HOBBIES_1_005     CA_1  2011-01-29          0.0            5      1  2011"
      ]
     },
     "execution_count": 5,
     "metadata": {},
     "output_type": "execute_result"
    }
   ],
   "source": [
    "sales_data.head()"
   ]
  },
  {
   "cell_type": "code",
   "execution_count": 8,
   "id": "2f2b17ed",
   "metadata": {},
   "outputs": [
    {
     "data": {
      "text/plain": [
       "item_id\n",
       "HOBBIES_1_001      15450\n",
       "FOODS_2_210        15450\n",
       "FOODS_2_201        15450\n",
       "FOODS_2_202        15450\n",
       "FOODS_2_203        15450\n",
       "                   ...  \n",
       "HOUSEHOLD_1_464    15450\n",
       "HOUSEHOLD_1_465    15450\n",
       "HOUSEHOLD_1_466    15450\n",
       "HOUSEHOLD_1_467    15450\n",
       "FOODS_3_827        15450\n",
       "Name: count, Length: 3049, dtype: int64"
      ]
     },
     "execution_count": 8,
     "metadata": {},
     "output_type": "execute_result"
    }
   ],
   "source": [
    "sales_data['item_id'].value_counts()"
   ]
  },
  {
   "cell_type": "code",
   "execution_count": 9,
   "id": "4ed06930",
   "metadata": {},
   "outputs": [],
   "source": [
    "df_cleaned = sales_data.copy()"
   ]
  },
  {
   "cell_type": "code",
   "execution_count": 10,
   "id": "c738bf2a",
   "metadata": {},
   "outputs": [
    {
     "data": {
      "text/html": [
       "<div>\n",
       "<style scoped>\n",
       "    .dataframe tbody tr th:only-of-type {\n",
       "        vertical-align: middle;\n",
       "    }\n",
       "\n",
       "    .dataframe tbody tr th {\n",
       "        vertical-align: top;\n",
       "    }\n",
       "\n",
       "    .dataframe thead th {\n",
       "        text-align: right;\n",
       "    }\n",
       "</style>\n",
       "<table border=\"1\" class=\"dataframe\">\n",
       "  <thead>\n",
       "    <tr style=\"text-align: right;\">\n",
       "      <th></th>\n",
       "      <th>item_id</th>\n",
       "      <th>store_id</th>\n",
       "      <th>total_sales</th>\n",
       "      <th>day_of_week</th>\n",
       "      <th>month</th>\n",
       "      <th>year</th>\n",
       "    </tr>\n",
       "  </thead>\n",
       "  <tbody>\n",
       "    <tr>\n",
       "      <th>0</th>\n",
       "      <td>HOBBIES_1_001</td>\n",
       "      <td>CA_1</td>\n",
       "      <td>0.0</td>\n",
       "      <td>5</td>\n",
       "      <td>1</td>\n",
       "      <td>2011</td>\n",
       "    </tr>\n",
       "    <tr>\n",
       "      <th>1</th>\n",
       "      <td>HOBBIES_1_002</td>\n",
       "      <td>CA_1</td>\n",
       "      <td>0.0</td>\n",
       "      <td>5</td>\n",
       "      <td>1</td>\n",
       "      <td>2011</td>\n",
       "    </tr>\n",
       "    <tr>\n",
       "      <th>2</th>\n",
       "      <td>HOBBIES_1_003</td>\n",
       "      <td>CA_1</td>\n",
       "      <td>0.0</td>\n",
       "      <td>5</td>\n",
       "      <td>1</td>\n",
       "      <td>2011</td>\n",
       "    </tr>\n",
       "    <tr>\n",
       "      <th>3</th>\n",
       "      <td>HOBBIES_1_004</td>\n",
       "      <td>CA_1</td>\n",
       "      <td>0.0</td>\n",
       "      <td>5</td>\n",
       "      <td>1</td>\n",
       "      <td>2011</td>\n",
       "    </tr>\n",
       "    <tr>\n",
       "      <th>4</th>\n",
       "      <td>HOBBIES_1_005</td>\n",
       "      <td>CA_1</td>\n",
       "      <td>0.0</td>\n",
       "      <td>5</td>\n",
       "      <td>1</td>\n",
       "      <td>2011</td>\n",
       "    </tr>\n",
       "  </tbody>\n",
       "</table>\n",
       "</div>"
      ],
      "text/plain": [
       "         item_id store_id  total_sales  day_of_week  month  year\n",
       "0  HOBBIES_1_001     CA_1          0.0            5      1  2011\n",
       "1  HOBBIES_1_002     CA_1          0.0            5      1  2011\n",
       "2  HOBBIES_1_003     CA_1          0.0            5      1  2011\n",
       "3  HOBBIES_1_004     CA_1          0.0            5      1  2011\n",
       "4  HOBBIES_1_005     CA_1          0.0            5      1  2011"
      ]
     },
     "execution_count": 10,
     "metadata": {},
     "output_type": "execute_result"
    }
   ],
   "source": [
    "columns_to_drop = ['date']\n",
    "\n",
    "df_cleaned = df_cleaned.drop(columns=columns_to_drop)\n",
    "\n",
    "df_cleaned.head()"
   ]
  },
  {
   "cell_type": "code",
   "execution_count": 11,
   "id": "f5eadda0",
   "metadata": {},
   "outputs": [],
   "source": [
    "from my_krml_25076922.features.data_processing import encode_categorical_columns\n",
    "\n",
    "# List of categorical columns to encode\n",
    "categorical_columns = ['store_id', 'item_id']\n",
    "\n",
    "# Apply label encoding to the categorical columns\n",
    "df_cleaned = encode_categorical_columns(df_cleaned, categorical_columns)"
   ]
  },
  {
   "cell_type": "code",
   "execution_count": 12,
   "id": "2b7d6ef9",
   "metadata": {},
   "outputs": [
    {
     "data": {
      "text/html": [
       "<div>\n",
       "<style scoped>\n",
       "    .dataframe tbody tr th:only-of-type {\n",
       "        vertical-align: middle;\n",
       "    }\n",
       "\n",
       "    .dataframe tbody tr th {\n",
       "        vertical-align: top;\n",
       "    }\n",
       "\n",
       "    .dataframe thead th {\n",
       "        text-align: right;\n",
       "    }\n",
       "</style>\n",
       "<table border=\"1\" class=\"dataframe\">\n",
       "  <thead>\n",
       "    <tr style=\"text-align: right;\">\n",
       "      <th></th>\n",
       "      <th>item_id</th>\n",
       "      <th>store_id</th>\n",
       "      <th>total_sales</th>\n",
       "      <th>day_of_week</th>\n",
       "      <th>month</th>\n",
       "      <th>year</th>\n",
       "    </tr>\n",
       "  </thead>\n",
       "  <tbody>\n",
       "    <tr>\n",
       "      <th>0</th>\n",
       "      <td>1437</td>\n",
       "      <td>0</td>\n",
       "      <td>0.0</td>\n",
       "      <td>5</td>\n",
       "      <td>1</td>\n",
       "      <td>2011</td>\n",
       "    </tr>\n",
       "    <tr>\n",
       "      <th>1</th>\n",
       "      <td>1438</td>\n",
       "      <td>0</td>\n",
       "      <td>0.0</td>\n",
       "      <td>5</td>\n",
       "      <td>1</td>\n",
       "      <td>2011</td>\n",
       "    </tr>\n",
       "    <tr>\n",
       "      <th>2</th>\n",
       "      <td>1439</td>\n",
       "      <td>0</td>\n",
       "      <td>0.0</td>\n",
       "      <td>5</td>\n",
       "      <td>1</td>\n",
       "      <td>2011</td>\n",
       "    </tr>\n",
       "    <tr>\n",
       "      <th>3</th>\n",
       "      <td>1440</td>\n",
       "      <td>0</td>\n",
       "      <td>0.0</td>\n",
       "      <td>5</td>\n",
       "      <td>1</td>\n",
       "      <td>2011</td>\n",
       "    </tr>\n",
       "    <tr>\n",
       "      <th>4</th>\n",
       "      <td>1441</td>\n",
       "      <td>0</td>\n",
       "      <td>0.0</td>\n",
       "      <td>5</td>\n",
       "      <td>1</td>\n",
       "      <td>2011</td>\n",
       "    </tr>\n",
       "  </tbody>\n",
       "</table>\n",
       "</div>"
      ],
      "text/plain": [
       "   item_id  store_id  total_sales  day_of_week  month  year\n",
       "0     1437         0          0.0            5      1  2011\n",
       "1     1438         0          0.0            5      1  2011\n",
       "2     1439         0          0.0            5      1  2011\n",
       "3     1440         0          0.0            5      1  2011\n",
       "4     1441         0          0.0            5      1  2011"
      ]
     },
     "execution_count": 12,
     "metadata": {},
     "output_type": "execute_result"
    }
   ],
   "source": [
    "df_cleaned.head()"
   ]
  },
  {
   "cell_type": "code",
   "execution_count": 13,
   "id": "074678c8",
   "metadata": {},
   "outputs": [],
   "source": [
    "from sklearn.preprocessing import StandardScaler\n",
    "\n",
    "# Define the features to scale\n",
    "features_to_scale = ['total_sales', 'day_of_week', 'month', 'year']\n",
    "\n",
    "# Initialize the scaler\n",
    "scaler = StandardScaler()\n",
    "\n",
    "# Fit the scaler and transform the selected features\n",
    "df_cleaned[features_to_scale] = scaler.fit_transform(df_cleaned[features_to_scale])"
   ]
  },
  {
   "cell_type": "code",
   "execution_count": 14,
   "id": "85aff9df",
   "metadata": {},
   "outputs": [
    {
     "data": {
      "text/html": [
       "<div>\n",
       "<style scoped>\n",
       "    .dataframe tbody tr th:only-of-type {\n",
       "        vertical-align: middle;\n",
       "    }\n",
       "\n",
       "    .dataframe tbody tr th {\n",
       "        vertical-align: top;\n",
       "    }\n",
       "\n",
       "    .dataframe thead th {\n",
       "        text-align: right;\n",
       "    }\n",
       "</style>\n",
       "<table border=\"1\" class=\"dataframe\">\n",
       "  <thead>\n",
       "    <tr style=\"text-align: right;\">\n",
       "      <th></th>\n",
       "      <th>item_id</th>\n",
       "      <th>store_id</th>\n",
       "      <th>total_sales</th>\n",
       "      <th>day_of_week</th>\n",
       "      <th>month</th>\n",
       "      <th>year</th>\n",
       "    </tr>\n",
       "  </thead>\n",
       "  <tbody>\n",
       "    <tr>\n",
       "      <th>0</th>\n",
       "      <td>1437</td>\n",
       "      <td>0</td>\n",
       "      <td>-0.330511</td>\n",
       "      <td>0.993873</td>\n",
       "      <td>-1.539218</td>\n",
       "      <td>-1.371861</td>\n",
       "    </tr>\n",
       "    <tr>\n",
       "      <th>1</th>\n",
       "      <td>1438</td>\n",
       "      <td>0</td>\n",
       "      <td>-0.330511</td>\n",
       "      <td>0.993873</td>\n",
       "      <td>-1.539218</td>\n",
       "      <td>-1.371861</td>\n",
       "    </tr>\n",
       "    <tr>\n",
       "      <th>2</th>\n",
       "      <td>1439</td>\n",
       "      <td>0</td>\n",
       "      <td>-0.330511</td>\n",
       "      <td>0.993873</td>\n",
       "      <td>-1.539218</td>\n",
       "      <td>-1.371861</td>\n",
       "    </tr>\n",
       "    <tr>\n",
       "      <th>3</th>\n",
       "      <td>1440</td>\n",
       "      <td>0</td>\n",
       "      <td>-0.330511</td>\n",
       "      <td>0.993873</td>\n",
       "      <td>-1.539218</td>\n",
       "      <td>-1.371861</td>\n",
       "    </tr>\n",
       "    <tr>\n",
       "      <th>4</th>\n",
       "      <td>1441</td>\n",
       "      <td>0</td>\n",
       "      <td>-0.330511</td>\n",
       "      <td>0.993873</td>\n",
       "      <td>-1.539218</td>\n",
       "      <td>-1.371861</td>\n",
       "    </tr>\n",
       "  </tbody>\n",
       "</table>\n",
       "</div>"
      ],
      "text/plain": [
       "   item_id  store_id  total_sales  day_of_week     month      year\n",
       "0     1437         0    -0.330511     0.993873 -1.539218 -1.371861\n",
       "1     1438         0    -0.330511     0.993873 -1.539218 -1.371861\n",
       "2     1439         0    -0.330511     0.993873 -1.539218 -1.371861\n",
       "3     1440         0    -0.330511     0.993873 -1.539218 -1.371861\n",
       "4     1441         0    -0.330511     0.993873 -1.539218 -1.371861"
      ]
     },
     "execution_count": 14,
     "metadata": {},
     "output_type": "execute_result"
    }
   ],
   "source": [
    "df_cleaned.head()"
   ]
  },
  {
   "cell_type": "code",
   "execution_count": 16,
   "id": "6939b2a6",
   "metadata": {},
   "outputs": [
    {
     "data": {
      "text/plain": [
       "['/Users/vega7unk/Documents/3rd_Sem_DSI/Adv_ML/AT2/Project/adv_mla_at2/models/predictive/scaler.joblib']"
      ]
     },
     "execution_count": 16,
     "metadata": {},
     "output_type": "execute_result"
    }
   ],
   "source": [
    "from joblib import dump\n",
    "\n",
    "dump(scaler, '/Users/vega7unk/Documents/3rd_Sem_DSI/Adv_ML/AT2/Project/adv_mla_at2/models/predictive/scaler.joblib')"
   ]
  },
  {
   "cell_type": "code",
   "execution_count": 18,
   "id": "9e80c88d",
   "metadata": {},
   "outputs": [],
   "source": [
    "from my_krml_25076922.data.sets import pop_target\n",
    "\n",
    "features, target = pop_target(df_cleaned, 'total_sales')"
   ]
  },
  {
   "cell_type": "code",
   "execution_count": 19,
   "id": "571a2bbf",
   "metadata": {},
   "outputs": [],
   "source": [
    "from my_krml_25076922.data.sets import split_sets_random\n",
    "\n",
    "X_train, y_train, X_val, y_val, X_test, y_test = split_sets_random(features, target, test_ratio=0.2)"
   ]
  },
  {
   "cell_type": "code",
   "execution_count": 20,
   "id": "05380407",
   "metadata": {},
   "outputs": [
    {
     "name": "stdout",
     "output_type": "stream",
     "text": [
      "(28264230, 5)\n",
      "(9421410, 5)\n",
      "(9421410, 5)\n"
     ]
    }
   ],
   "source": [
    "print(X_train.shape)\n",
    "print(X_val.shape)\n",
    "print(X_test.shape)"
   ]
  },
  {
   "cell_type": "code",
   "execution_count": 21,
   "id": "e6278ddf",
   "metadata": {},
   "outputs": [
    {
     "name": "stdout",
     "output_type": "stream",
     "text": [
      "(28264230,)\n",
      "(9421410,)\n",
      "(9421410,)\n"
     ]
    }
   ],
   "source": [
    "print(y_train.shape)\n",
    "print(y_val.shape)\n",
    "print(y_test.shape)"
   ]
  },
  {
   "cell_type": "code",
   "execution_count": 24,
   "id": "92492fce",
   "metadata": {},
   "outputs": [],
   "source": [
    "from my_krml_25076922.data.sets import save_sets\n",
    "\n",
    "save_sets(X_train, y_train, X_val, y_val, X_test, y_test, path='/Users/vega7unk/Documents/3rd_Sem_DSI/Adv_ML/AT2/Project/adv_mla_at2/data/processed')"
   ]
  },
  {
   "cell_type": "code",
   "execution_count": 25,
   "id": "572c0276",
   "metadata": {},
   "outputs": [],
   "source": [
    "from my_krml_25076922.models.null import NullRegressor\n",
    "\n",
    "base_model = NullRegressor()"
   ]
  },
  {
   "cell_type": "code",
   "execution_count": 26,
   "id": "a41dae7c",
   "metadata": {},
   "outputs": [],
   "source": [
    "y_base = base_model.fit_predict(y_train)"
   ]
  },
  {
   "cell_type": "code",
   "execution_count": 28,
   "id": "945bbd0a",
   "metadata": {},
   "outputs": [
    {
     "name": "stdout",
     "output_type": "stream",
     "text": [
      "RMSE Training: 0.9980232715094798\n",
      "MAE Training: 0.477523215846306\n"
     ]
    }
   ],
   "source": [
    "from my_krml_25076922.models.performance import print_regressor_scores\n",
    "\n",
    "print_regressor_scores(y_preds=y_base, y_actuals=y_train, set_name='Training')"
   ]
  }
 ],
 "metadata": {
  "kernelspec": {
   "display_name": "Python 3 (ipykernel)",
   "language": "python",
   "name": "python3"
  },
  "language_info": {
   "codemirror_mode": {
    "name": "ipython",
    "version": 3
   },
   "file_extension": ".py",
   "mimetype": "text/x-python",
   "name": "python",
   "nbconvert_exporter": "python",
   "pygments_lexer": "ipython3",
   "version": "3.11.3"
  }
 },
 "nbformat": 4,
 "nbformat_minor": 5
}
